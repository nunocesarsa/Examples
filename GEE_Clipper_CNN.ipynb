{
  "nbformat": 4,
  "nbformat_minor": 0,
  "metadata": {
    "colab": {
      "name": "GEE_Clipper_CNN.ipynb",
      "provenance": [],
      "authorship_tag": "ABX9TyNoQ5mNkWG9IKvTAJLCirr8",
      "include_colab_link": true
    },
    "kernelspec": {
      "name": "python3",
      "display_name": "Python 3"
    },
    "language_info": {
      "name": "python"
    }
  },
  "cells": [
    {
      "cell_type": "markdown",
      "metadata": {
        "id": "view-in-github",
        "colab_type": "text"
      },
      "source": [
        "<a href=\"https://colab.research.google.com/github/nunocesarsa/Examples/blob/main/GEE_Clipper_CNN.ipynb\" target=\"_parent\"><img src=\"https://colab.research.google.com/assets/colab-badge.svg\" alt=\"Open In Colab\"/></a>"
      ]
    },
    {
      "cell_type": "code",
      "metadata": {
        "id": "I57AMJWFxqmj",
        "colab": {
          "base_uri": "https://localhost:8080/"
        },
        "outputId": "40378576-19a4-4014-9faf-ef330f0c5827"
      },
      "source": [
        "#importing Earth Engine package\n",
        "import ee\n",
        "\n",
        "#then we need to authenticate\n",
        "# Trigger the authentication flow.\n",
        "ee.Authenticate()\n",
        "\n",
        "# Initialize the library.\n",
        "ee.Initialize()"
      ],
      "execution_count": null,
      "outputs": [
        {
          "output_type": "stream",
          "text": [
            "To authorize access needed by Earth Engine, open the following URL in a web browser and follow the instructions. If the web browser does not start automatically, please manually browse the URL below.\n",
            "\n",
            "    https://accounts.google.com/o/oauth2/auth?client_id=517222506229-vsmmajv00ul0bs7p89v5m89qs8eb9359.apps.googleusercontent.com&scope=https%3A%2F%2Fwww.googleapis.com%2Fauth%2Fearthengine+https%3A%2F%2Fwww.googleapis.com%2Fauth%2Fdevstorage.full_control&redirect_uri=urn%3Aietf%3Awg%3Aoauth%3A2.0%3Aoob&response_type=code&code_challenge=GJW4BdFklQxameDTP_Yn3GR3iyptIZ--_qv1VilLVsw&code_challenge_method=S256\n",
            "\n",
            "The authorization workflow will generate a code, which you should paste in the box below. \n",
            "Enter verification code: 4/1AY0e-g5f5ZiA_p2nWWtEZw0chS6o7nYY-B9A3Dix2dfE2zTQSkJYz75cd2c\n",
            "\n",
            "Successfully saved authorization token.\n"
          ],
          "name": "stdout"
        }
      ]
    },
    {
      "cell_type": "code",
      "metadata": {
        "id": "I80k1dKPrZNs"
      },
      "source": [
        "from google.colab import drive\n",
        "drive.mount('/content/drive')"
      ],
      "execution_count": null,
      "outputs": []
    },
    {
      "cell_type": "markdown",
      "metadata": {
        "id": "JtvD6-wa0IqU"
      },
      "source": [
        ""
      ]
    },
    {
      "cell_type": "code",
      "metadata": {
        "colab": {
          "base_uri": "https://localhost:8080/"
        },
        "id": "cKy5LUva0Pjp",
        "outputId": "f96ca05b-749b-4287-84f2-8902394f7a50"
      },
      "source": [
        "!pip install pyproj"
      ],
      "execution_count": null,
      "outputs": [
        {
          "output_type": "stream",
          "text": [
            "Collecting pyproj\n",
            "\u001b[?25l  Downloading https://files.pythonhosted.org/packages/11/1d/1c54c672c2faf08d28fe78e15d664c048f786225bef95ad87b6c435cf69e/pyproj-3.1.0-cp37-cp37m-manylinux2010_x86_64.whl (6.6MB)\n",
            "\u001b[K     |████████████████████████████████| 6.6MB 5.1MB/s \n",
            "\u001b[?25hRequirement already satisfied: certifi in /usr/local/lib/python3.7/dist-packages (from pyproj) (2020.12.5)\n",
            "Installing collected packages: pyproj\n",
            "Successfully installed pyproj-3.1.0\n"
          ],
          "name": "stdout"
        }
      ]
    },
    {
      "cell_type": "code",
      "metadata": {
        "id": "eG3Jc5ZGxh6v"
      },
      "source": [
        "from pyproj import Proj, transform"
      ],
      "execution_count": null,
      "outputs": []
    },
    {
      "cell_type": "code",
      "metadata": {
        "colab": {
          "base_uri": "https://localhost:8080/",
          "height": 221
        },
        "id": "jarpzeMWVROv",
        "outputId": "412f531a-7ee4-4f3e-b5de-fc4cf0037b31"
      },
      "source": [
        "!pip uninstall geopy\n",
        "!pip install geopy"
      ],
      "execution_count": null,
      "outputs": [
        {
          "output_type": "stream",
          "text": [
            "\u001b[33mWARNING: Skipping geopy as it is not installed.\u001b[0m\n",
            "Collecting geopy\n",
            "\u001b[?25l  Downloading https://files.pythonhosted.org/packages/0c/67/915668d0e286caa21a1da82a85ffe3d20528ec7212777b43ccd027d94023/geopy-2.1.0-py3-none-any.whl (112kB)\n",
            "\u001b[K     |████████████████████████████████| 112kB 5.0MB/s \n",
            "\u001b[?25hRequirement already satisfied: geographiclib<2,>=1.49 in /usr/local/lib/python3.7/dist-packages (from geopy) (1.50)\n",
            "Installing collected packages: geopy\n",
            "Successfully installed geopy-2.1.0\n"
          ],
          "name": "stdout"
        },
        {
          "output_type": "display_data",
          "data": {
            "application/vnd.colab-display-data+json": {
              "pip_warning": {
                "packages": [
                  "geopy"
                ]
              }
            }
          },
          "metadata": {
            "tags": []
          }
        }
      ]
    },
    {
      "cell_type": "code",
      "metadata": {
        "id": "UI8qblfUHAjJ",
        "colab": {
          "base_uri": "https://localhost:8080/",
          "height": 36
        },
        "outputId": "1d9ca8fa-c8f2-42bc-dbf7-f2c6eb9ef2b6"
      },
      "source": [
        "import geopy\n",
        "geopy.__version__\n",
        "\n",
        "#requires version 2.10 at least - notice colab uses 1.17.0 (06062021)"
      ],
      "execution_count": null,
      "outputs": [
        {
          "output_type": "execute_result",
          "data": {
            "application/vnd.google.colaboratory.intrinsic+json": {
              "type": "string"
            },
            "text/plain": [
              "'2.1.0'"
            ]
          },
          "metadata": {
            "tags": []
          },
          "execution_count": 2
        }
      ]
    },
    {
      "cell_type": "code",
      "metadata": {
        "colab": {
          "base_uri": "https://localhost:8080/"
        },
        "id": "5CoLB3qYvQZ5",
        "outputId": "e680c5c1-9dc6-4e29-8cd2-af13016e8386"
      },
      "source": [
        "#packages required\n",
        "from pyproj import Proj, Transformer\n",
        "\n",
        "\n",
        "#Possibitlities:\n",
        "# Generate an array with the different corners\n",
        "def extent_creator(x_in,y_in,CRS_in='epsg:4326',side_length=50):\n",
        "\n",
        "  #i could generate \n",
        "  if CRS_in != 'EPSG:4326':\n",
        "\n",
        "    #outval = transform(CRS_in,'epsg:4326',x_in,y_in)\n",
        "    outval = Transformer.from_crs(CRS_in, 'epsg:4326').transform(x_in,y_in)\n",
        "\n",
        "  #outval = x_in,y_in\n",
        "  return(outval)\n",
        "\n",
        "\n",
        "#task_creator(10,20)\n",
        "#using coordinates from here to test: https://gis.stackexchange.com/questions/78838/converting-projected-coordinates-to-lat-lon-using-python\n",
        "extent_creator(11705274.6374,4826473.6922,'epsg:3857')"
      ],
      "execution_count": null,
      "outputs": [
        {
          "output_type": "execute_result",
          "data": {
            "text/plain": [
              "(39.72785727727917, 105.15027111593008)"
            ]
          },
          "metadata": {
            "tags": []
          },
          "execution_count": 3
        }
      ]
    },
    {
      "cell_type": "code",
      "metadata": {
        "colab": {
          "base_uri": "https://localhost:8080/"
        },
        "id": "gafdEM5k7R7p",
        "outputId": "a3a68dcc-1fba-4bf2-f6b5-92e136c9098d"
      },
      "source": [
        "def square_creator(x_in,y_in,side_len=10):\n",
        "  \n",
        "  side_half = side_len/2\n",
        "\n",
        "  x_max = x_in + side_half\n",
        "  x_min = x_in - side_half\n",
        "\n",
        "  y_max = y_in + side_half\n",
        "  y_min = y_in - side_half\n",
        "\n",
        "  outval = x_max, x_min, y_max, y_min\n",
        "\n",
        "  return outval\n",
        "\n",
        "square_creator(-25,-10,5)"
      ],
      "execution_count": null,
      "outputs": [
        {
          "output_type": "execute_result",
          "data": {
            "text/plain": [
              "(-22.5, -27.5, -7.5, -12.5)"
            ]
          },
          "metadata": {
            "tags": []
          },
          "execution_count": 35
        }
      ]
    },
    {
      "cell_type": "code",
      "metadata": {
        "colab": {
          "base_uri": "https://localhost:8080/"
        },
        "id": "1LB9GGyIxmd_",
        "outputId": "7e03f8cc-7233-4c9c-fc1e-638c2ff11d99"
      },
      "source": [
        "#import numpy as np\n",
        "from pyproj import Proj, Transformer\n",
        "import geopy\n",
        "from geopy.distance import geodesic\n",
        "\n",
        "\n",
        "class GEE_Clipper:\n",
        "  def __init__(self, x=0,y=0,CRS='epsg:4326',side_len=10):\n",
        "    self.x = x\n",
        "    self.y = y\n",
        "    self.CRS =CRS\n",
        "    self.side_len = side_len \n",
        "\n",
        "  #just returns a dictionary of the input data\n",
        "  def get_data(self):\n",
        "    return {'x':self.x,\n",
        "            'y':self.y,\n",
        "            'CRS':self.CRS,\n",
        "            'Side length':self.side_len}\n",
        "\n",
        "  #in case the data is already projected\n",
        "  #outputs an \"extent object\"\n",
        "  def square_creator_projected(self,poly=False):\n",
        "    side_half = self.side_len/2\n",
        "\n",
        "    x_max = self.x + side_half\n",
        "    x_min = self.x - side_half\n",
        "\n",
        "    y_max = self.y + side_half\n",
        "    y_min = self.y - side_half\n",
        "\n",
        "    if poly == False:\n",
        "     return [x_max, x_min, y_max, y_min]\n",
        "    else:\n",
        "     return [[x_max, y_max],[x_max, y_min],[x_min, y_min],[x_min, y_max]]\n",
        "    \n",
        "  #in case the data is not projected\n",
        "  #outputs n extent object\n",
        "  #adapted from here https://stackoverflow.com/questions/24427828/calculate-point-based-on-distance-and-direction - many of the documentation on the original package is a bit wacky\n",
        "  def square_creator_geographic(self,poly=False):\n",
        "    \n",
        "    x_deg, y_deg =  Transformer.from_crs(self.CRS, 'epsg:4326').transform(self.x,self.y)\n",
        "    side_half = geopy.distance.GeodesicDistance(meters=self.side_len/2)\n",
        "\n",
        "    lat_nort = side_half.destination(point=(y_deg,x_deg),bearing=0).latitude\n",
        "    lat_sout = side_half.destination(point=(y_deg,x_deg),bearing=180).latitude\n",
        "    lon_east = side_half.destination(point=(y_deg,x_deg),bearing=90).longitude\n",
        "    lon_west = side_half.destination(point=(y_deg,x_deg),bearing=270).longitude\n",
        "\n",
        "    if poly == False:\n",
        "      return [lon_east, lon_west,lat_nort, lat_sout]\n",
        "    else:\n",
        "      return [[lat_nort,lon_east],[lat_sout,lon_east],[lat_sout,lon_west],[lat_nort,lon_west]]\n",
        "     #return [[lon_east,lat_nort],[lon_east,lat_sout],[lon_west,lat_sout],[lon_west,lat_nort]]\n",
        "\n",
        "  #simply organizes the output of the square creator to a polygon that can be read into a GEE object\n",
        "  #def generate_polygon(ext_obj):\n",
        "  #  TR = [ext_obj[0],ext_obj[2]]\n",
        "  #  BR = [ext_obj[0],ext_obj[3]]\n",
        "  #  BL = [ext_obj[1],ext_obj[3]]\n",
        "  #  TL = [ext_obj[1],ext_obj[2]]\n",
        "\n",
        "  #  return [[TR],[BR],[BL],[TL]]\n",
        "\n",
        "  #requires pyproj\n",
        "  #def convertToWGS84(self.x,self.y,self.side_len):\n",
        "  def convertToWGS84(self):\n",
        "\n",
        "    if self.CRS == 'epsg:4326':\n",
        "      return [self.x,self.y,self.CRS,self.side_len]\n",
        "    else:\n",
        "      x_deg, y_deg =  Transformer.from_crs(self.CRS, 'epsg:4326').transform(self.x,self.y)\n",
        "      \n",
        "      return [x_deg,y_deg,'epsg:4326',self.side_len]\n",
        "\n",
        "\n",
        "#test_obj = GEE_Clipper.square_creator(25,25)\n",
        "#ee.Geometry.Polygon(GEE_Clipper.generate_polygon(test_obj))\n",
        "\n",
        "#GEE_Clipper.get_data()\n",
        "GEE_Clipper(11705274.6374,4826473.6922,'epsg:3857').get_data()"
      ],
      "execution_count": null,
      "outputs": [
        {
          "output_type": "execute_result",
          "data": {
            "text/plain": [
              "{'CRS': 'epsg:3857', 'Side length': 10, 'x': 11705274.6374, 'y': 4826473.6922}"
            ]
          },
          "metadata": {
            "tags": []
          },
          "execution_count": 50
        }
      ]
    },
    {
      "cell_type": "markdown",
      "metadata": {
        "id": "9Lve1a2whIYw"
      },
      "source": [
        "## Test area"
      ]
    },
    {
      "cell_type": "code",
      "metadata": {
        "colab": {
          "base_uri": "https://localhost:8080/"
        },
        "id": "dPWXH3hnjz_g",
        "outputId": "e05749a5-ac7b-48eb-8d6b-a2ba7baf1306"
      },
      "source": [
        "11705274.6374-10000\n"
      ],
      "execution_count": null,
      "outputs": [
        {
          "output_type": "execute_result",
          "data": {
            "text/plain": [
              "11695274.6374"
            ]
          },
          "metadata": {
            "tags": []
          },
          "execution_count": 58
        }
      ]
    },
    {
      "cell_type": "code",
      "metadata": {
        "colab": {
          "base_uri": "https://localhost:8080/"
        },
        "id": "pmFB3ofHcCFA",
        "outputId": "07ad3eaa-b3f0-47c2-cf22-b79be084f12c"
      },
      "source": [
        "test_obj = GEE_Clipper(-105.15027111593008,39.72785727727917 ,side_len=10000)\n",
        "test_obj.get_data()\n",
        "bb=test_obj.square_creator_geographic(poly=True)\n",
        "bb\n"
      ],
      "execution_count": null,
      "outputs": [
        {
          "output_type": "execute_result",
          "data": {
            "text/plain": [
              "[[39.77289021642765, -105.09194976806823],\n",
              " [39.68282398775344, -105.09194976806823],\n",
              " [39.68282398775344, -105.20859246379193],\n",
              " [39.77289021642765, -105.20859246379193]]"
            ]
          },
          "metadata": {
            "tags": []
          },
          "execution_count": 59
        }
      ]
    },
    {
      "cell_type": "markdown",
      "metadata": {
        "id": "pr6-Yjx0cBkg"
      },
      "source": [
        ""
      ]
    },
    {
      "cell_type": "code",
      "metadata": {
        "colab": {
          "base_uri": "https://localhost:8080/"
        },
        "id": "eKpoSe7yLnKh",
        "outputId": "68bbef03-ac47-459a-eb35-d94e34f14568"
      },
      "source": [
        "import geopy.distance\n",
        "d = geopy.distance.distance(meters=100000)\n",
        "\n",
        "d.destination(point=(39, 105), bearing=90)"
      ],
      "execution_count": null,
      "outputs": [
        {
          "output_type": "execute_result",
          "data": {
            "text/plain": [
              "Point(38.99428969644511, 106.15432059225918, 0.0)"
            ]
          },
          "metadata": {
            "tags": []
          },
          "execution_count": 29
        }
      ]
    },
    {
      "cell_type": "code",
      "metadata": {
        "colab": {
          "base_uri": "https://localhost:8080/"
        },
        "id": "mrg7E8hwX1Og",
        "outputId": "b17c2713-3a01-4374-94c6-8c1cbff48229"
      },
      "source": [
        "a= d.destination(point=(39.72785727727917, 105.15027111593008), bearing=180)\n",
        "a.latitude"
      ],
      "execution_count": null,
      "outputs": [
        {
          "output_type": "execute_result",
          "data": {
            "text/plain": [
              "38.82712505238111"
            ]
          },
          "metadata": {
            "tags": []
          },
          "execution_count": 31
        }
      ]
    },
    {
      "cell_type": "code",
      "metadata": {
        "colab": {
          "base_uri": "https://localhost:8080/"
        },
        "id": "qwURlsgZAUnI",
        "outputId": "8cba3c8e-13c3-4aa3-9cd8-e16e4dbb85fb"
      },
      "source": [
        "GEE_Clipper(11705274.6374,4826473.6922,'epsg:3857').square_creator_geographic()\n",
        "#GEE_Clipper(11705274.6374,4826473.6922,'epsg:4326').convertToWGS84()"
      ],
      "execution_count": null,
      "outputs": [
        {
          "output_type": "execute_result",
          "data": {
            "text/plain": [
              "(39.72785727727917, 105.15027111593008)"
            ]
          },
          "metadata": {
            "tags": []
          },
          "execution_count": 87
        }
      ]
    },
    {
      "cell_type": "code",
      "metadata": {
        "colab": {
          "base_uri": "https://localhost:8080/"
        },
        "id": "oyjGceZqAW1_",
        "outputId": "765eb4c1-2a93-499c-cff5-53fac8cc35f2"
      },
      "source": [
        "geopy.distance.VincentyDistance(kilometers = 1)"
      ],
      "execution_count": null,
      "outputs": [
        {
          "output_type": "execute_result",
          "data": {
            "text/plain": [
              "Distance(1.0)"
            ]
          },
          "metadata": {
            "tags": []
          },
          "execution_count": 88
        }
      ]
    },
    {
      "cell_type": "code",
      "metadata": {
        "colab": {
          "base_uri": "https://localhost:8080/"
        },
        "id": "hD9aZ43_ZTT3",
        "outputId": "aea8ed93-d58f-451e-a6b5-b29c3c3415ce"
      },
      "source": [
        "# Define starting point.\n",
        "start = geopy.Point(48.853, 2.349)\n",
        "\n",
        "# Define a general distance object, initialized with a distance of 1 km.\n",
        "d = geopy.distance.great_circle(kilometers=1)\n",
        "\n",
        "# Use the `destination` method with a bearing of 0 degrees (which is north)\n",
        "# in order to go from point `start` 1 km to north.\n",
        "import math\n",
        "final = d.destination(point=start, bearing=0)\n",
        "final"
      ],
      "execution_count": null,
      "outputs": [
        {
          "output_type": "execute_result",
          "data": {
            "text/plain": [
              "Point(48.86199320335494, 2.349, 0.0)"
            ]
          },
          "metadata": {
            "tags": []
          },
          "execution_count": 27
        }
      ]
    },
    {
      "cell_type": "code",
      "metadata": {
        "id": "dn3PYuNXUzxg"
      },
      "source": [
        "d.destination(point=start, bearing=0)"
      ],
      "execution_count": null,
      "outputs": []
    },
    {
      "cell_type": "code",
      "metadata": {
        "colab": {
          "base_uri": "https://localhost:8080/",
          "height": 35
        },
        "id": "n57081CSVD3J",
        "outputId": "de5fad69-732b-4d5c-ce94-6f54e385fc14"
      },
      "source": [
        "geopy.__version__"
      ],
      "execution_count": null,
      "outputs": [
        {
          "output_type": "execute_result",
          "data": {
            "application/vnd.google.colaboratory.intrinsic+json": {
              "type": "string"
            },
            "text/plain": [
              "'1.17.0'"
            ]
          },
          "metadata": {
            "tags": []
          },
          "execution_count": 89
        }
      ]
    },
    {
      "cell_type": "code",
      "metadata": {
        "colab": {
          "base_uri": "https://localhost:8080/"
        },
        "id": "CU5K9GDr8UYA",
        "outputId": "89610581-e047-449f-8dae-2f231eb7f33e"
      },
      "source": [
        "aa= GEE_Clipper(-105.15027111593008,39.72785727727917 ,side_len=10000)\n",
        "ee.Geometry.Polygon(aa.square_creator_geographic(poly=True))"
      ],
      "execution_count": null,
      "outputs": [
        {
          "output_type": "execute_result",
          "data": {
            "text/plain": [
              "ee.Geometry({\n",
              "  \"functionInvocationValue\": {\n",
              "    \"functionName\": \"GeometryConstructors.Polygon\",\n",
              "    \"arguments\": {\n",
              "      \"coordinates\": {\n",
              "        \"constantValue\": [\n",
              "          [\n",
              "            [\n",
              "              39.77289021642765,\n",
              "              -105.09194976806823\n",
              "            ],\n",
              "            [\n",
              "              39.68282398775344,\n",
              "              -105.09194976806823\n",
              "            ],\n",
              "            [\n",
              "              39.68282398775344,\n",
              "              -105.20859246379193\n",
              "            ],\n",
              "            [\n",
              "              39.77289021642765,\n",
              "              -105.20859246379193\n",
              "            ]\n",
              "          ]\n",
              "        ]\n",
              "      },\n",
              "      \"evenOdd\": {\n",
              "        \"constantValue\": true\n",
              "      }\n",
              "    }\n",
              "  }\n",
              "})"
            ]
          },
          "metadata": {
            "tags": []
          },
          "execution_count": 57
        }
      ]
    },
    {
      "cell_type": "code",
      "metadata": {
        "id": "WXvdu_nD5KBI",
        "colab": {
          "base_uri": "https://localhost:8080/"
        },
        "outputId": "6b5f36d1-4895-4181-c42d-70a16ca4f9c7"
      },
      "source": [
        "poly_area_coord = [[[4.2679539239374575,52.097753553999],\n",
        "                    [4.4272556817499575,52.097753553999],\n",
        "                    [4.4272556817499575,52.21149891284465],\n",
        "                    [4.2679539239374575,52.21149891284465],\n",
        "                    [4.2679539239374575,52.097753553999]]]\n",
        "\n",
        "ee.Geometry.Polygon(poly_area_coord)              "
      ],
      "execution_count": null,
      "outputs": [
        {
          "output_type": "execute_result",
          "data": {
            "text/plain": [
              "ee.Geometry({\n",
              "  \"functionInvocationValue\": {\n",
              "    \"functionName\": \"GeometryConstructors.Polygon\",\n",
              "    \"arguments\": {\n",
              "      \"coordinates\": {\n",
              "        \"constantValue\": [\n",
              "          [\n",
              "            [\n",
              "              4.2679539239374575,\n",
              "              52.097753553999\n",
              "            ],\n",
              "            [\n",
              "              4.4272556817499575,\n",
              "              52.097753553999\n",
              "            ],\n",
              "            [\n",
              "              4.4272556817499575,\n",
              "              52.21149891284465\n",
              "            ],\n",
              "            [\n",
              "              4.2679539239374575,\n",
              "              52.21149891284465\n",
              "            ],\n",
              "            [\n",
              "              4.2679539239374575,\n",
              "              52.097753553999\n",
              "            ]\n",
              "          ]\n",
              "        ]\n",
              "      },\n",
              "      \"evenOdd\": {\n",
              "        \"constantValue\": true\n",
              "      }\n",
              "    }\n",
              "  }\n",
              "})"
            ]
          },
          "metadata": {
            "tags": []
          },
          "execution_count": 53
        }
      ]
    },
    {
      "cell_type": "code",
      "metadata": {
        "colab": {
          "base_uri": "https://localhost:8080/"
        },
        "id": "S2sZQD5Zxuf3",
        "outputId": "41239119-5dca-4ff2-ee2c-d4a69ce9bd54"
      },
      "source": [
        "type(GEE_Clipper.square_creator(-25,-10,5))"
      ],
      "execution_count": null,
      "outputs": [
        {
          "output_type": "execute_result",
          "data": {
            "text/plain": [
              "list"
            ]
          },
          "metadata": {
            "tags": []
          },
          "execution_count": 14
        }
      ]
    },
    {
      "cell_type": "code",
      "metadata": {
        "colab": {
          "base_uri": "https://localhost:8080/"
        },
        "id": "pxNoz4L697N4",
        "outputId": "bcf5f72d-a1c8-4c12-dce0-9d59f7be219d"
      },
      "source": [
        "GEE_Clipper"
      ],
      "execution_count": null,
      "outputs": [
        {
          "output_type": "execute_result",
          "data": {
            "text/plain": [
              "2.5"
            ]
          },
          "metadata": {
            "tags": []
          },
          "execution_count": 22
        }
      ]
    },
    {
      "cell_type": "code",
      "metadata": {
        "colab": {
          "base_uri": "https://localhost:8080/"
        },
        "id": "yJIoLuQb6e8s",
        "outputId": "fc9335ee-f5d5-45fd-b821-a8f6ff2e1387"
      },
      "source": [
        "from pyproj import Transformer\n",
        "\n",
        "transformer = Transformer.from_crs('epsg:3857', 'epsg:4326')\n",
        "transformer.transform(11705274.6374,4826473.6922)"
      ],
      "execution_count": null,
      "outputs": [
        {
          "output_type": "execute_result",
          "data": {
            "text/plain": [
              "(39.72785727727917, 105.15027111593008)"
            ]
          },
          "metadata": {
            "tags": []
          },
          "execution_count": 9
        }
      ]
    },
    {
      "cell_type": "code",
      "metadata": {
        "colab": {
          "base_uri": "https://localhost:8080/"
        },
        "id": "9FiYr0za7IVM",
        "outputId": "0948a599-3d31-4041-dae2-d0660f642ccb"
      },
      "source": [
        "Transformer.from_crs('epsg:3857', 'epsg:4326').transform(11705274.6374,4826473.6922)"
      ],
      "execution_count": null,
      "outputs": [
        {
          "output_type": "execute_result",
          "data": {
            "text/plain": [
              "(39.72785727727917, 105.15027111593008)"
            ]
          },
          "metadata": {
            "tags": []
          },
          "execution_count": 10
        }
      ]
    },
    {
      "cell_type": "code",
      "metadata": {
        "id": "Yi3BNRq7z29p"
      },
      "source": [
        "class ComplexNumber:\n",
        "    def __init__(self, r=0, i=0):\n",
        "        self.real = r\n",
        "        self.imag = i\n",
        "\n",
        "    def get_data(self):\n",
        "        print(f'{self.real}+{self.imag}j')"
      ],
      "execution_count": null,
      "outputs": []
    },
    {
      "cell_type": "code",
      "metadata": {
        "colab": {
          "base_uri": "https://localhost:8080/"
        },
        "id": "OcAKfIaMz4vm",
        "outputId": "b1b2f009-cc8b-4836-ce82-975d48c6b6c1"
      },
      "source": [
        "# Create a new ComplexNumber object\n",
        "num1 = ComplexNumber(2, 3)\n",
        "num1.get_data()"
      ],
      "execution_count": null,
      "outputs": [
        {
          "output_type": "stream",
          "text": [
            "2+3j\n"
          ],
          "name": "stdout"
        }
      ]
    }
  ]
}