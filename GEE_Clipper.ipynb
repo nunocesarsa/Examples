{
  "nbformat": 4,
  "nbformat_minor": 0,
  "metadata": {
    "colab": {
      "name": "GEE_Clipper.ipynb",
      "provenance": [],
      "toc_visible": true,
      "authorship_tag": "ABX9TyNM9DMA+If6DtVXLSPLr2cH",
      "include_colab_link": true
    },
    "kernelspec": {
      "name": "python3",
      "display_name": "Python 3"
    },
    "language_info": {
      "name": "python"
    }
  },
  "cells": [
    {
      "cell_type": "markdown",
      "metadata": {
        "id": "view-in-github",
        "colab_type": "text"
      },
      "source": [
        "<a href=\"https://colab.research.google.com/github/nunocesarsa/Examples/blob/main/GEE_Clipper.ipynb\" target=\"_parent\"><img src=\"https://colab.research.google.com/assets/colab-badge.svg\" alt=\"Open In Colab\"/></a>"
      ]
    },
    {
      "cell_type": "markdown",
      "metadata": {
        "id": "q-otMVcles_c"
      },
      "source": [
        "#Connect to GEE"
      ]
    },
    {
      "cell_type": "code",
      "metadata": {
        "colab": {
          "base_uri": "https://localhost:8080/"
        },
        "id": "0cKQTiu-eqkF",
        "outputId": "6d572ab2-9d68-4a7b-efe6-973a12f4ec48"
      },
      "source": [
        "#importing Earth Engine package\n",
        "import ee\n",
        "\n",
        "#then we need to authenticate\n",
        "# Trigger the authentication flow.\n",
        "ee.Authenticate()\n",
        "\n",
        "# Initialize the library.\n",
        "ee.Initialize()"
      ],
      "execution_count": null,
      "outputs": [
        {
          "output_type": "stream",
          "text": [
            "To authorize access needed by Earth Engine, open the following URL in a web browser and follow the instructions. If the web browser does not start automatically, please manually browse the URL below.\n",
            "\n",
            "    https://accounts.google.com/o/oauth2/auth?client_id=517222506229-vsmmajv00ul0bs7p89v5m89qs8eb9359.apps.googleusercontent.com&scope=https%3A%2F%2Fwww.googleapis.com%2Fauth%2Fearthengine+https%3A%2F%2Fwww.googleapis.com%2Fauth%2Fdevstorage.full_control&redirect_uri=urn%3Aietf%3Awg%3Aoauth%3A2.0%3Aoob&response_type=code&code_challenge=Za4oLRMDHERHI27hiwtrE5LRnBTDx-uy_k_pq6DZsMA&code_challenge_method=S256\n",
            "\n",
            "The authorization workflow will generate a code, which you should paste in the box below. \n",
            "Enter verification code: 4/1AY0e-g6viErytlRL47bUwFGw855QIujNtWMAn1pd7Lxpy2Gp6u3J4POBWYM\n",
            "\n",
            "Successfully saved authorization token.\n"
          ],
          "name": "stdout"
        }
      ]
    },
    {
      "cell_type": "markdown",
      "metadata": {
        "id": "pWM2fxIJfwKb"
      },
      "source": [
        "#Mounting Google drive"
      ]
    },
    {
      "cell_type": "code",
      "metadata": {
        "colab": {
          "base_uri": "https://localhost:8080/"
        },
        "id": "dHNh2UMaf7Vq",
        "outputId": "40f6f07c-e716-4579-987c-a339b186256d"
      },
      "source": [
        "from google.colab import drive\n",
        "drive.mount('/content/drive')"
      ],
      "execution_count": null,
      "outputs": [
        {
          "output_type": "stream",
          "text": [
            "Mounted at /content/drive\n"
          ],
          "name": "stdout"
        }
      ]
    },
    {
      "cell_type": "markdown",
      "metadata": {
        "id": "wIoke-yyiJWA"
      },
      "source": [
        "#Parameters"
      ]
    },
    {
      "cell_type": "code",
      "metadata": {
        "id": "o4Ce-fseiS-f"
      },
      "source": [
        "#AOI to crop:\n",
        "poly_area_coord = [[[4.26291867530725,52.08374234863279],\n",
        "                    [4.450716221693969,52.08374234863279],\n",
        "                    [4.450716221693969,52.208254433484235],\n",
        "                    [4.26291867530725,52.208254433484235],\n",
        "                    [4.26291867530725,52.08374234863279]]]\n",
        "\n",
        "#point to guide image search filter \n",
        "point_coord = [4.3177644852437735,52.12475518385005]\n",
        "\n",
        "\n",
        "#creating objects:\n",
        "\n",
        "#This creates an earth engine polygon geometry\n",
        "poly_area = ee.Geometry.Polygon(poly_area_coord)\n",
        "point_geo = ee.Geometry.Point(point_coord)\n"
      ],
      "execution_count": null,
      "outputs": []
    },
    {
      "cell_type": "markdown",
      "metadata": {
        "id": "i3txJkfFi3RY"
      },
      "source": [
        "##Search collection"
      ]
    },
    {
      "cell_type": "code",
      "metadata": {
        "colab": {
          "base_uri": "https://localhost:8080/"
        },
        "id": "RZGIMs2-i5Te",
        "outputId": "7d807277-08d4-4ca7-af35-633721b7beaa"
      },
      "source": [
        "#check the filters\n",
        "s2_collection = (ee.ImageCollection(\"COPERNICUS/S2_SR\") #selects the L8 Surface reflectance product in GEE\n",
        "                 .select(['B2','B3','B4','B8'\n",
        "                          #'B5','B6','B7',\n",
        "                          #'B8A','B11','B12'\n",
        "                          ]) #selects the bands of interest\n",
        "                 .filter(ee.Filter.date('2018-06-01','2018-10-30')) #filters on the time - you can play around with this to select different dates..\n",
        "                 .filterBounds(point_geo) #filters on the Aoi we have created above\n",
        "                 .filter(ee.Filter.lt('CLOUDY_PIXEL_PERCENTAGE',5)))\n",
        "\n",
        "count = s2_collection.size()\n",
        "print('Nr of images in collection: ', str(count.getInfo())+'\\n')"
      ],
      "execution_count": null,
      "outputs": [
        {
          "output_type": "stream",
          "text": [
            "Nr of images in collection:  1\n",
            "\n"
          ],
          "name": "stdout"
        }
      ]
    },
    {
      "cell_type": "markdown",
      "metadata": {
        "id": "HbjfjKtmjr8m"
      },
      "source": [
        "### Exploring metadata of ith image (optional)"
      ]
    },
    {
      "cell_type": "code",
      "metadata": {
        "colab": {
          "base_uri": "https://localhost:8080/"
        },
        "id": "WkW2diSUjmP_",
        "outputId": "4e164693-56de-4957-b5a2-5f658c89ae61"
      },
      "source": [
        "mid_step = s2_collection.toList(count)\n",
        "s2_img = ee.Image(mid_step.get(0))\n",
        "s2_img_meta = s2_img.getInfo()\n",
        "s2_img_meta"
      ],
      "execution_count": null,
      "outputs": [
        {
          "output_type": "execute_result",
          "data": {
            "text/plain": [
              "{'bands': [{'crs': 'EPSG:32631',\n",
              "   'crs_transform': [10, 0, 499980, 0, -10, 5800020],\n",
              "   'data_type': {'max': 65535,\n",
              "    'min': 0,\n",
              "    'precision': 'int',\n",
              "    'type': 'PixelType'},\n",
              "   'dimensions': [10980, 10980],\n",
              "   'id': 'B2'},\n",
              "  {'crs': 'EPSG:32631',\n",
              "   'crs_transform': [10, 0, 499980, 0, -10, 5800020],\n",
              "   'data_type': {'max': 65535,\n",
              "    'min': 0,\n",
              "    'precision': 'int',\n",
              "    'type': 'PixelType'},\n",
              "   'dimensions': [10980, 10980],\n",
              "   'id': 'B3'},\n",
              "  {'crs': 'EPSG:32631',\n",
              "   'crs_transform': [10, 0, 499980, 0, -10, 5800020],\n",
              "   'data_type': {'max': 65535,\n",
              "    'min': 0,\n",
              "    'precision': 'int',\n",
              "    'type': 'PixelType'},\n",
              "   'dimensions': [10980, 10980],\n",
              "   'id': 'B4'},\n",
              "  {'crs': 'EPSG:32631',\n",
              "   'crs_transform': [10, 0, 499980, 0, -10, 5800020],\n",
              "   'data_type': {'max': 65535,\n",
              "    'min': 0,\n",
              "    'precision': 'int',\n",
              "    'type': 'PixelType'},\n",
              "   'dimensions': [10980, 10980],\n",
              "   'id': 'B8'}],\n",
              " 'id': 'COPERNICUS/S2_SR/20180630T105031_20180630T105440_T31UET',\n",
              " 'properties': {'AOT_RETRIEVAL_ACCURACY': 0,\n",
              "  'CLOUDY_PIXEL_PERCENTAGE': 0.720253,\n",
              "  'CLOUD_COVERAGE_ASSESSMENT': 0.720253,\n",
              "  'CLOUD_SHADOW_PERCENTAGE': 0.315102,\n",
              "  'DARK_FEATURES_PERCENTAGE': 1.50454,\n",
              "  'DATASTRIP_ID': 'S2A_OPER_MSI_L2A_DS_MPS__20180630T144133_S20180630T105440_N02.08',\n",
              "  'DATATAKE_IDENTIFIER': 'GS2A_20180630T105031_015778_N02.08',\n",
              "  'DATATAKE_TYPE': 'INS-NOBS',\n",
              "  'DEGRADED_MSI_DATA_PERCENTAGE': 0,\n",
              "  'FORMAT_CORRECTNESS': 'PASSED',\n",
              "  'GENERAL_QUALITY': 'PASSED',\n",
              "  'GENERATION_TIME': 1530369693000,\n",
              "  'GEOMETRIC_QUALITY': 'PASSED',\n",
              "  'GRANULE_ID': 'L2A_T31UET_A015778_20180630T105440',\n",
              "  'HIGH_PROBA_CLOUDS_PERCENTAGE': 0.32271,\n",
              "  'MEAN_INCIDENCE_AZIMUTH_ANGLE_B1': 118.522570932,\n",
              "  'MEAN_INCIDENCE_AZIMUTH_ANGLE_B10': 120.788454183,\n",
              "  'MEAN_INCIDENCE_AZIMUTH_ANGLE_B11': 119.512067703,\n",
              "  'MEAN_INCIDENCE_AZIMUTH_ANGLE_B12': 118.64803729,\n",
              "  'MEAN_INCIDENCE_AZIMUTH_ANGLE_B2': 124.412989421,\n",
              "  'MEAN_INCIDENCE_AZIMUTH_ANGLE_B3': 121.936015815,\n",
              "  'MEAN_INCIDENCE_AZIMUTH_ANGLE_B4': 120.410310292,\n",
              "  'MEAN_INCIDENCE_AZIMUTH_ANGLE_B5': 119.795667292,\n",
              "  'MEAN_INCIDENCE_AZIMUTH_ANGLE_B6': 119.269902722,\n",
              "  'MEAN_INCIDENCE_AZIMUTH_ANGLE_B7': 118.837095647,\n",
              "  'MEAN_INCIDENCE_AZIMUTH_ANGLE_B8': 123.037859909,\n",
              "  'MEAN_INCIDENCE_AZIMUTH_ANGLE_B8A': 118.465066717,\n",
              "  'MEAN_INCIDENCE_AZIMUTH_ANGLE_B9': 118.241666198,\n",
              "  'MEAN_INCIDENCE_ZENITH_ANGLE_B1': 3.96198491405,\n",
              "  'MEAN_INCIDENCE_ZENITH_ANGLE_B10': 3.56763895828,\n",
              "  'MEAN_INCIDENCE_ZENITH_ANGLE_B11': 3.72669553624,\n",
              "  'MEAN_INCIDENCE_ZENITH_ANGLE_B12': 3.90405154591,\n",
              "  'MEAN_INCIDENCE_ZENITH_ANGLE_B2': 3.3925340273,\n",
              "  'MEAN_INCIDENCE_ZENITH_ANGLE_B3': 3.48971092186,\n",
              "  'MEAN_INCIDENCE_ZENITH_ANGLE_B4': 3.59818711077,\n",
              "  'MEAN_INCIDENCE_ZENITH_ANGLE_B5': 3.6637000979,\n",
              "  'MEAN_INCIDENCE_ZENITH_ANGLE_B6': 3.73304637371,\n",
              "  'MEAN_INCIDENCE_ZENITH_ANGLE_B7': 3.80631313518,\n",
              "  'MEAN_INCIDENCE_ZENITH_ANGLE_B8': 3.43809663595,\n",
              "  'MEAN_INCIDENCE_ZENITH_ANGLE_B8A': 3.8826539242,\n",
              "  'MEAN_INCIDENCE_ZENITH_ANGLE_B9': 4.04639909808,\n",
              "  'MEAN_SOLAR_AZIMUTH_ANGLE': 155.972839687,\n",
              "  'MEAN_SOLAR_ZENITH_ANGLE': 30.377021101,\n",
              "  'MEDIUM_PROBA_CLOUDS_PERCENTAGE': 0.397354,\n",
              "  'MGRS_TILE': '31UET',\n",
              "  'NODATA_PIXEL_PERCENTAGE': 0,\n",
              "  'NOT_VEGETATED_PERCENTAGE': 5.371452,\n",
              "  'PROCESSING_BASELINE': '02.08',\n",
              "  'PRODUCT_ID': 'S2A_MSIL2A_20180630T105031_N0208_R051_T31UET_20180630T144133',\n",
              "  'RADIATIVE_TRANSFER_ACCURACY': 0,\n",
              "  'RADIOMETRIC_QUALITY': 'PASSED',\n",
              "  'REFLECTANCE_CONVERSION_CORRECTION': 0.96767744966,\n",
              "  'SATURATED_DEFECTIVE_PIXEL_PERCENTAGE': 0,\n",
              "  'SENSING_ORBIT_DIRECTION': 'DESCENDING',\n",
              "  'SENSING_ORBIT_NUMBER': 51,\n",
              "  'SENSOR_QUALITY': 'PASSED',\n",
              "  'SNOW_ICE_PERCENTAGE': 0.001108,\n",
              "  'SOLAR_IRRADIANCE_B1': 1884.69,\n",
              "  'SOLAR_IRRADIANCE_B10': 367.15,\n",
              "  'SOLAR_IRRADIANCE_B11': 245.59,\n",
              "  'SOLAR_IRRADIANCE_B12': 85.25,\n",
              "  'SOLAR_IRRADIANCE_B2': 1959.72,\n",
              "  'SOLAR_IRRADIANCE_B3': 1823.24,\n",
              "  'SOLAR_IRRADIANCE_B4': 1512.06,\n",
              "  'SOLAR_IRRADIANCE_B5': 1424.64,\n",
              "  'SOLAR_IRRADIANCE_B6': 1287.61,\n",
              "  'SOLAR_IRRADIANCE_B7': 1162.08,\n",
              "  'SOLAR_IRRADIANCE_B8': 1041.63,\n",
              "  'SOLAR_IRRADIANCE_B8A': 955.32,\n",
              "  'SOLAR_IRRADIANCE_B9': 812.92,\n",
              "  'SPACECRAFT_NAME': 'Sentinel-2A',\n",
              "  'THIN_CIRRUS_PERCENTAGE': 0.000189,\n",
              "  'UNCLASSIFIED_PERCENTAGE': 2.754287,\n",
              "  'VEGETATION_PERCENTAGE': 23.958822,\n",
              "  'WATER_PERCENTAGE': 65.374434,\n",
              "  'WATER_VAPOUR_RETRIEVAL_ACCURACY': 0,\n",
              "  'system:asset_size': 1506176592,\n",
              "  'system:footprint': {'coordinates': [[2.999560196615418, 52.35048439232044],\n",
              "    [2.9995590734968425, 52.35047312390204],\n",
              "    [2.9995685615226435, 51.36342154671687],\n",
              "    [2.9996271765944313, 51.363380082119775],\n",
              "    [2.9996770126748213, 51.36333435666048],\n",
              "    [2.9997006385671803, 51.36333159032386],\n",
              "    [4.5762346590080245, 51.35272757719544],\n",
              "    [4.576302283818211, 51.352763260649944],\n",
              "    [4.576376487151009, 51.35279331553509],\n",
              "    [4.576381532599898, 51.35280803108613],\n",
              "    [4.5935605531139, 51.84617408626645],\n",
              "    [4.611238168310276, 52.33948685795776],\n",
              "    [4.611179851569003, 52.339529161489416],\n",
              "    [4.6111306688587685, 52.33957550206863],\n",
              "    [4.611106514470994, 52.33957864103119],\n",
              "    [2.99970640952037, 52.350563178522556],\n",
              "    [2.9996384903654043, 52.350526539146344],\n",
              "    [2.999563642497738, 52.35049543933125],\n",
              "    [2.999560196615418, 52.35048439232044]],\n",
              "   'type': 'LinearRing'},\n",
              "  'system:index': '20180630T105031_20180630T105440_T31UET',\n",
              "  'system:time_end': 1530356080000,\n",
              "  'system:time_start': 1530356080000},\n",
              " 'type': 'Image',\n",
              " 'version': 1576758707996676}"
            ]
          },
          "metadata": {
            "tags": []
          },
          "execution_count": 11
        }
      ]
    },
    {
      "cell_type": "markdown",
      "metadata": {
        "id": "0o_-0SHrj-oV"
      },
      "source": [
        "## Exploring all the images in the dataset "
      ]
    },
    {
      "cell_type": "code",
      "metadata": {
        "colab": {
          "base_uri": "https://localhost:8080/"
        },
        "id": "4Rtyiqvej8bd",
        "outputId": "6c1873d1-f600-45ef-e2b7-56108e72847c"
      },
      "source": [
        "for i in range(count.getInfo()):\n",
        "  mid_step = s2_collection.toList(count) #this is an internal step to help us loop on the data itself\n",
        "  s2img = ee.Image(mid_step.get(i)) #this fetches ith image on the collection \n",
        "  s2_img_meta = s2_img.getInfo()   #this creates an object which has only the metadata \n",
        "  print('At position',i,'is Product ID: ',s2_img_meta.get('properties',{}).get('PRODUCT_ID'))\n",
        "\n",
        "  #interpreting the output:\n",
        "  #Landsat naming convention:\n",
        "  #XXXX_YYYYYY_ZZZZZZZZ\n",
        "  #XXXX <- Product identifier LC08 is Landsat 8, level C\n",
        "  #YYYYYYY <- Path and row identifers -> USGS pushes the LS images into a grid for the entire planet, this is the idenfier of said grid\n",
        "  #ZZZZZZZZ <- Date in western calendar"
      ],
      "execution_count": null,
      "outputs": [
        {
          "output_type": "stream",
          "text": [
            "At position 0 is Product ID:  S2A_MSIL2A_20170923T105021_N0205_R051_T31UET_20170923T105022\n"
          ],
          "name": "stdout"
        }
      ]
    },
    {
      "cell_type": "markdown",
      "metadata": {
        "id": "OBoQ9Tl2kLwd"
      },
      "source": [
        "#Exploring the image \n",
        "\n",
        "For this, we import folium pacakge, and create a specific function to assist. This is to make a prettier and more explorable map than the normal.\n",
        "\n",
        "(this was copy pasted, probably there are other ways of doing the same).\n",
        "\n",
        "This tutorial gives an excellent run down example of the many options in folium\n",
        "\n",
        "https://spatial.utk.edu/maps/ee-api-folium-setup.html"
      ]
    },
    {
      "cell_type": "code",
      "metadata": {
        "colab": {
          "base_uri": "https://localhost:8080/",
          "height": 915
        },
        "id": "TFpoIM4BkSJ1",
        "outputId": "5acf5f98-731d-417f-abf2-b0a0b615108f"
      },
      "source": [
        "#in here, we select an image of the list - in python lists start at 0\n",
        "mid_step = s2_collection.toList(count)\n",
        "s2_img = ee.Image(mid_step.get(0))\n",
        "\n",
        "#this command clips the image based on the original poly area\n",
        "s2_img_clip = s2_img.clip(poly_area)\n",
        "\n",
        "# Import the Folium library. This library is to assist in visualizations\n",
        "import folium\n",
        "\n",
        "# Import the Image function from the IPython.display module. \n",
        "from IPython.display import Image\n",
        "\n",
        "# Define a method for displaying Earth Engine image tiles to folium map.\n",
        "    #the next code snippet i stole from someone\n",
        "    #this is a simplified version of the original function\n",
        "def add_ee_layer(self, ee_image_object, vis_params, name):\n",
        "  \n",
        "  map_id_dict = ee.Image(ee_image_object).getMapId(vis_params)\n",
        "  folium.raster_layers.TileLayer(\n",
        "    tiles = map_id_dict['tile_fetcher'].url_format,\n",
        "    attr = 'Map Data &copy; <a href=\"https://earthengine.google.com/\">Google Earth Engine</a>',\n",
        "    name = name,\n",
        "    overlay = True,\n",
        "    control = True\n",
        "  ).add_to(self)\n",
        "\n",
        "\n",
        "\n",
        "# Add EE drawing method to folium.\n",
        "folium.Map.add_ee_layer = add_ee_layer\n",
        "\n",
        "#starting location of the map\n",
        "my_map = folium.Map(location=[52.1326,5.2913], zoom_start=8) #this had to be tried one by one... feels daft\n",
        "\n",
        "# Set visualization parameters. Here is we can create different visualizations of our data\n",
        "visParams = {\"bands\": ['B4', 'B3', 'B2'],\"gain\": '0.1, 0.1, 0.1',\"scale\":20}\n",
        "visParams_nir = {\"bands\": ['B8', 'B4', 'B3'],\"gain\": '0.1, 0.1, 0.1',\"scale\":20}\n",
        "\n",
        "# Add the image to the folium map\n",
        "my_map.add_ee_layer(s2_img, visParams, 'RGB composite')\n",
        "my_map.add_ee_layer(s2_img_clip, visParams_nir, 'NIR composite - clipped')\n",
        "my_map.add_ee_layer(s2_img, visParams_nir, 'NIR composite')\n",
        "\n",
        "#adding a layer control\n",
        "my_map.add_child(folium.LayerControl())\n",
        "\n",
        "# Display the map.\n",
        "display(my_map)"
      ],
      "execution_count": null,
      "outputs": [
        {
          "output_type": "display_data",
          "data": {
            "text/html": [
              "<div style=\"width:100%;\"><div style=\"position:relative;width:100%;height:0;padding-bottom:60%;\"><span style=\"color:#565656\">Make this Notebook Trusted to load map: File -> Trust Notebook</span><iframe src=\"about:blank\" style=\"position:absolute;width:100%;height:100%;left:0;top:0;border:none !important;\" data-html=%3C%21DOCTYPE%20html%3E%0A%3Chead%3E%20%20%20%20%0A%20%20%20%20%3Cmeta%20http-equiv%3D%22content-type%22%20content%3D%22text/html%3B%20charset%3DUTF-8%22%20/%3E%0A%20%20%20%20%3Cscript%3EL_PREFER_CANVAS%3Dfalse%3B%20L_NO_TOUCH%3Dfalse%3B%20L_DISABLE_3D%3Dfalse%3B%3C/script%3E%0A%20%20%20%20%3Cscript%20src%3D%22https%3A//cdn.jsdelivr.net/npm/leaflet%401.4.0/dist/leaflet.js%22%3E%3C/script%3E%0A%20%20%20%20%3Cscript%20src%3D%22https%3A//code.jquery.com/jquery-1.12.4.min.js%22%3E%3C/script%3E%0A%20%20%20%20%3Cscript%20src%3D%22https%3A//maxcdn.bootstrapcdn.com/bootstrap/3.2.0/js/bootstrap.min.js%22%3E%3C/script%3E%0A%20%20%20%20%3Cscript%20src%3D%22https%3A//cdnjs.cloudflare.com/ajax/libs/Leaflet.awesome-markers/2.0.2/leaflet.awesome-markers.js%22%3E%3C/script%3E%0A%20%20%20%20%3Clink%20rel%3D%22stylesheet%22%20href%3D%22https%3A//cdn.jsdelivr.net/npm/leaflet%401.4.0/dist/leaflet.css%22/%3E%0A%20%20%20%20%3Clink%20rel%3D%22stylesheet%22%20href%3D%22https%3A//maxcdn.bootstrapcdn.com/bootstrap/3.2.0/css/bootstrap.min.css%22/%3E%0A%20%20%20%20%3Clink%20rel%3D%22stylesheet%22%20href%3D%22https%3A//maxcdn.bootstrapcdn.com/bootstrap/3.2.0/css/bootstrap-theme.min.css%22/%3E%0A%20%20%20%20%3Clink%20rel%3D%22stylesheet%22%20href%3D%22https%3A//maxcdn.bootstrapcdn.com/font-awesome/4.6.3/css/font-awesome.min.css%22/%3E%0A%20%20%20%20%3Clink%20rel%3D%22stylesheet%22%20href%3D%22https%3A//cdnjs.cloudflare.com/ajax/libs/Leaflet.awesome-markers/2.0.2/leaflet.awesome-markers.css%22/%3E%0A%20%20%20%20%3Clink%20rel%3D%22stylesheet%22%20href%3D%22https%3A//rawcdn.githack.com/python-visualization/folium/master/folium/templates/leaflet.awesome.rotate.css%22/%3E%0A%20%20%20%20%3Cstyle%3Ehtml%2C%20body%20%7Bwidth%3A%20100%25%3Bheight%3A%20100%25%3Bmargin%3A%200%3Bpadding%3A%200%3B%7D%3C/style%3E%0A%20%20%20%20%3Cstyle%3E%23map%20%7Bposition%3Aabsolute%3Btop%3A0%3Bbottom%3A0%3Bright%3A0%3Bleft%3A0%3B%7D%3C/style%3E%0A%20%20%20%20%0A%20%20%20%20%3Cmeta%20name%3D%22viewport%22%20content%3D%22width%3Ddevice-width%2C%0A%20%20%20%20%20%20%20%20initial-scale%3D1.0%2C%20maximum-scale%3D1.0%2C%20user-scalable%3Dno%22%20/%3E%0A%20%20%20%20%3Cstyle%3E%23map_0181d8495667403db785fbd188f60ad2%20%7B%0A%20%20%20%20%20%20%20%20position%3A%20relative%3B%0A%20%20%20%20%20%20%20%20width%3A%20100.0%25%3B%0A%20%20%20%20%20%20%20%20height%3A%20100.0%25%3B%0A%20%20%20%20%20%20%20%20left%3A%200.0%25%3B%0A%20%20%20%20%20%20%20%20top%3A%200.0%25%3B%0A%20%20%20%20%20%20%20%20%7D%0A%20%20%20%20%3C/style%3E%0A%3C/head%3E%0A%3Cbody%3E%20%20%20%20%0A%20%20%20%20%0A%20%20%20%20%3Cdiv%20class%3D%22folium-map%22%20id%3D%22map_0181d8495667403db785fbd188f60ad2%22%20%3E%3C/div%3E%0A%3C/body%3E%0A%3Cscript%3E%20%20%20%20%0A%20%20%20%20%0A%20%20%20%20%0A%20%20%20%20%20%20%20%20var%20bounds%20%3D%20null%3B%0A%20%20%20%20%0A%0A%20%20%20%20var%20map_0181d8495667403db785fbd188f60ad2%20%3D%20L.map%28%0A%20%20%20%20%20%20%20%20%27map_0181d8495667403db785fbd188f60ad2%27%2C%20%7B%0A%20%20%20%20%20%20%20%20center%3A%20%5B52.1326%2C%205.2913%5D%2C%0A%20%20%20%20%20%20%20%20zoom%3A%208%2C%0A%20%20%20%20%20%20%20%20maxBounds%3A%20bounds%2C%0A%20%20%20%20%20%20%20%20layers%3A%20%5B%5D%2C%0A%20%20%20%20%20%20%20%20worldCopyJump%3A%20false%2C%0A%20%20%20%20%20%20%20%20crs%3A%20L.CRS.EPSG3857%2C%0A%20%20%20%20%20%20%20%20zoomControl%3A%20true%2C%0A%20%20%20%20%20%20%20%20%7D%29%3B%0A%0A%0A%20%20%20%20%0A%20%20%20%20var%20tile_layer_421dff9f8d744c2fbd9879c015dfc4b9%20%3D%20L.tileLayer%28%0A%20%20%20%20%20%20%20%20%27https%3A//%7Bs%7D.tile.openstreetmap.org/%7Bz%7D/%7Bx%7D/%7By%7D.png%27%2C%0A%20%20%20%20%20%20%20%20%7B%0A%20%20%20%20%20%20%20%20%22attribution%22%3A%20null%2C%0A%20%20%20%20%20%20%20%20%22detectRetina%22%3A%20false%2C%0A%20%20%20%20%20%20%20%20%22maxNativeZoom%22%3A%2018%2C%0A%20%20%20%20%20%20%20%20%22maxZoom%22%3A%2018%2C%0A%20%20%20%20%20%20%20%20%22minZoom%22%3A%200%2C%0A%20%20%20%20%20%20%20%20%22noWrap%22%3A%20false%2C%0A%20%20%20%20%20%20%20%20%22opacity%22%3A%201%2C%0A%20%20%20%20%20%20%20%20%22subdomains%22%3A%20%22abc%22%2C%0A%20%20%20%20%20%20%20%20%22tms%22%3A%20false%0A%7D%29.addTo%28map_0181d8495667403db785fbd188f60ad2%29%3B%0A%20%20%20%20var%20tile_layer_8ab2167e75ab4d11be8d03d0865be431%20%3D%20L.tileLayer%28%0A%20%20%20%20%20%20%20%20%27https%3A//earthengine.googleapis.com/v1alpha/projects/earthengine-legacy/maps/84fe19b201cc403f71f68c644458fa27-b66c2f2bfbf48fc535a7a1a69b95692e/tiles/%7Bz%7D/%7Bx%7D/%7By%7D%27%2C%0A%20%20%20%20%20%20%20%20%7B%0A%20%20%20%20%20%20%20%20%22attribution%22%3A%20%22Map%20Data%20%26copy%3B%20%3Ca%20href%3D%5C%22https%3A//earthengine.google.com/%5C%22%3EGoogle%20Earth%20Engine%3C/a%3E%22%2C%0A%20%20%20%20%20%20%20%20%22detectRetina%22%3A%20false%2C%0A%20%20%20%20%20%20%20%20%22maxNativeZoom%22%3A%2018%2C%0A%20%20%20%20%20%20%20%20%22maxZoom%22%3A%2018%2C%0A%20%20%20%20%20%20%20%20%22minZoom%22%3A%200%2C%0A%20%20%20%20%20%20%20%20%22noWrap%22%3A%20false%2C%0A%20%20%20%20%20%20%20%20%22opacity%22%3A%201%2C%0A%20%20%20%20%20%20%20%20%22subdomains%22%3A%20%22abc%22%2C%0A%20%20%20%20%20%20%20%20%22tms%22%3A%20false%0A%7D%29.addTo%28map_0181d8495667403db785fbd188f60ad2%29%3B%0A%20%20%20%20var%20tile_layer_bf34d1dedf984568b125211da097cc8d%20%3D%20L.tileLayer%28%0A%20%20%20%20%20%20%20%20%27https%3A//earthengine.googleapis.com/v1alpha/projects/earthengine-legacy/maps/8a1f64cce54da3f96d7179d8b2f40139-9326cdeef6c970175ce9e0a973956239/tiles/%7Bz%7D/%7Bx%7D/%7By%7D%27%2C%0A%20%20%20%20%20%20%20%20%7B%0A%20%20%20%20%20%20%20%20%22attribution%22%3A%20%22Map%20Data%20%26copy%3B%20%3Ca%20href%3D%5C%22https%3A//earthengine.google.com/%5C%22%3EGoogle%20Earth%20Engine%3C/a%3E%22%2C%0A%20%20%20%20%20%20%20%20%22detectRetina%22%3A%20false%2C%0A%20%20%20%20%20%20%20%20%22maxNativeZoom%22%3A%2018%2C%0A%20%20%20%20%20%20%20%20%22maxZoom%22%3A%2018%2C%0A%20%20%20%20%20%20%20%20%22minZoom%22%3A%200%2C%0A%20%20%20%20%20%20%20%20%22noWrap%22%3A%20false%2C%0A%20%20%20%20%20%20%20%20%22opacity%22%3A%201%2C%0A%20%20%20%20%20%20%20%20%22subdomains%22%3A%20%22abc%22%2C%0A%20%20%20%20%20%20%20%20%22tms%22%3A%20false%0A%7D%29.addTo%28map_0181d8495667403db785fbd188f60ad2%29%3B%0A%20%20%20%20var%20tile_layer_d6243110f3a84b218492e3f3d4f8ad4d%20%3D%20L.tileLayer%28%0A%20%20%20%20%20%20%20%20%27https%3A//earthengine.googleapis.com/v1alpha/projects/earthengine-legacy/maps/cf118d240eeb42e277d5915280d176d6-f708c5f46c6241fdd89092b8a7ee279e/tiles/%7Bz%7D/%7Bx%7D/%7By%7D%27%2C%0A%20%20%20%20%20%20%20%20%7B%0A%20%20%20%20%20%20%20%20%22attribution%22%3A%20%22Map%20Data%20%26copy%3B%20%3Ca%20href%3D%5C%22https%3A//earthengine.google.com/%5C%22%3EGoogle%20Earth%20Engine%3C/a%3E%22%2C%0A%20%20%20%20%20%20%20%20%22detectRetina%22%3A%20false%2C%0A%20%20%20%20%20%20%20%20%22maxNativeZoom%22%3A%2018%2C%0A%20%20%20%20%20%20%20%20%22maxZoom%22%3A%2018%2C%0A%20%20%20%20%20%20%20%20%22minZoom%22%3A%200%2C%0A%20%20%20%20%20%20%20%20%22noWrap%22%3A%20false%2C%0A%20%20%20%20%20%20%20%20%22opacity%22%3A%201%2C%0A%20%20%20%20%20%20%20%20%22subdomains%22%3A%20%22abc%22%2C%0A%20%20%20%20%20%20%20%20%22tms%22%3A%20false%0A%7D%29.addTo%28map_0181d8495667403db785fbd188f60ad2%29%3B%0A%20%20%20%20%0A%20%20%20%20%20%20%20%20%20%20%20%20var%20layer_control_428f35d8307c4ecca0c955ea78929831%20%3D%20%7B%0A%20%20%20%20%20%20%20%20%20%20%20%20%20%20%20%20base_layers%20%3A%20%7B%20%22openstreetmap%22%20%3A%20tile_layer_421dff9f8d744c2fbd9879c015dfc4b9%2C%20%7D%2C%0A%20%20%20%20%20%20%20%20%20%20%20%20%20%20%20%20overlays%20%3A%20%7B%20%22RGB%20composite%22%20%3A%20tile_layer_8ab2167e75ab4d11be8d03d0865be431%2C%22NIR%20composite%20-%20clipped%22%20%3A%20tile_layer_bf34d1dedf984568b125211da097cc8d%2C%22NIR%20composite%22%20%3A%20tile_layer_d6243110f3a84b218492e3f3d4f8ad4d%2C%20%7D%0A%20%20%20%20%20%20%20%20%20%20%20%20%20%20%20%20%7D%3B%0A%20%20%20%20%20%20%20%20%20%20%20%20L.control.layers%28%0A%20%20%20%20%20%20%20%20%20%20%20%20%20%20%20%20layer_control_428f35d8307c4ecca0c955ea78929831.base_layers%2C%0A%20%20%20%20%20%20%20%20%20%20%20%20%20%20%20%20layer_control_428f35d8307c4ecca0c955ea78929831.overlays%2C%0A%20%20%20%20%20%20%20%20%20%20%20%20%20%20%20%20%7Bposition%3A%20%27topright%27%2C%0A%20%20%20%20%20%20%20%20%20%20%20%20%20%20%20%20%20collapsed%3A%20true%2C%0A%20%20%20%20%20%20%20%20%20%20%20%20%20%20%20%20%20autoZIndex%3A%20true%0A%20%20%20%20%20%20%20%20%20%20%20%20%20%20%20%20%7D%29.addTo%28map_0181d8495667403db785fbd188f60ad2%29%3B%0A%20%20%20%20%20%20%20%20%20%20%20%20%0A%20%20%20%20%20%20%20%20%0A%3C/script%3E onload=\"this.contentDocument.open();this.contentDocument.write(    decodeURIComponent(this.getAttribute('data-html')));this.contentDocument.close();\" allowfullscreen webkitallowfullscreen mozallowfullscreen></iframe></div></div>"
            ],
            "text/plain": [
              "<folium.folium.Map at 0x7f615d8fd810>"
            ]
          },
          "metadata": {
            "tags": []
          }
        }
      ]
    },
    {
      "cell_type": "markdown",
      "metadata": {
        "id": "rUdlGtMQmt7C"
      },
      "source": [
        "#Downloading a selection"
      ]
    },
    {
      "cell_type": "markdown",
      "metadata": {
        "id": "WL1MF1ccmyrk"
      },
      "source": [
        "Now, here, read carefully. The way it works is the google colab will send a \"task\" order to GEE and that task will be running on the background.\n",
        "\n",
        "This means that if you run the next box many times you will have multiple tasks being sent.\n",
        "\n",
        "On the other hand, if you save a \"big image\" then you take a lot of time and space of your drive. So you can just extract the clipped area of your study location and focus on that - makes it easier to set up your own models on your own machine this way."
      ]
    },
    {
      "cell_type": "code",
      "metadata": {
        "colab": {
          "base_uri": "https://localhost:8080/",
          "height": 35
        },
        "id": "03M96xEamzrk",
        "outputId": "05875d40-b424-4377-e83c-41d459a6d9c8"
      },
      "source": [
        "#getting the filenames\n",
        "imagename = s2_img_meta.get('properties',{}).get('PRODUCT_ID')\n",
        "\n",
        "s2_img_meta.get('properties',{}).get('PRODUCT_ID')"
      ],
      "execution_count": null,
      "outputs": [
        {
          "output_type": "execute_result",
          "data": {
            "application/vnd.google.colaboratory.intrinsic+json": {
              "type": "string"
            },
            "text/plain": [
              "'S2A_MSIL2A_20180630T105031_N0208_R051_T31UET_20180630T144133'"
            ]
          },
          "metadata": {
            "tags": []
          },
          "execution_count": 13
        }
      ]
    },
    {
      "cell_type": "markdown",
      "metadata": {
        "id": "6MRBjBBgnsaq"
      },
      "source": [
        "##Tasking GEE"
      ]
    },
    {
      "cell_type": "code",
      "metadata": {
        "id": "PcnfuJaEnVti"
      },
      "source": [
        "#these are task commands to be sent to GEE\n",
        "task_config = {\n",
        "    'image': s2_img,\n",
        "    'fileFormat': 'GeoTIFF',\n",
        "    'folder': 'Meijendel', #Meijendel folder \n",
        "    'fileNamePrefix': imagename[0:19] + \"_Meijendel\",\n",
        "    'description': \"clipped area\",\n",
        "    'scale':10,\n",
        "    'region':poly_area\n",
        "}\n"
      ],
      "execution_count": null,
      "outputs": []
    },
    {
      "cell_type": "code",
      "metadata": {
        "id": "6MjJwx9BoDuM"
      },
      "source": [
        "#This is how we order it to start\n",
        "task = ee.batch.Export.image.toDrive(**task_config )\n",
        "task.start()"
      ],
      "execution_count": null,
      "outputs": []
    },
    {
      "cell_type": "markdown",
      "metadata": {
        "id": "9GzXiVxSoG4x"
      },
      "source": [
        "##Check task status"
      ]
    },
    {
      "cell_type": "code",
      "metadata": {
        "id": "ckKMpsvsoJxL",
        "colab": {
          "base_uri": "https://localhost:8080/"
        },
        "outputId": "90dcfa4e-e4ac-4bd4-f34c-6bea2a4d5d3f"
      },
      "source": [
        "#to check if the task is running or completed, or failed, run this\n",
        "task.status()"
      ],
      "execution_count": null,
      "outputs": [
        {
          "output_type": "execute_result",
          "data": {
            "text/plain": [
              "{'attempt': 1,\n",
              " 'creation_timestamp_ms': 1619682943973,\n",
              " 'description': 'clipped area',\n",
              " 'id': 'U4PTHUGAAXSKR2W5E22MAU2B',\n",
              " 'name': 'projects/earthengine-legacy/operations/U4PTHUGAAXSKR2W5E22MAU2B',\n",
              " 'start_timestamp_ms': 1619682957376,\n",
              " 'state': 'RUNNING',\n",
              " 'task_type': 'EXPORT_IMAGE',\n",
              " 'update_timestamp_ms': 1619682960765}"
            ]
          },
          "metadata": {
            "tags": []
          },
          "execution_count": 19
        }
      ]
    }
  ]
}