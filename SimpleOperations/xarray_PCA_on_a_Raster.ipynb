{
  "nbformat": 4,
  "nbformat_minor": 0,
  "metadata": {
    "colab": {
      "name": "xarray_PCA_on_a_Raster.ipynb",
      "provenance": [],
      "authorship_tag": "ABX9TyP5+hHpxZIB4X9srlZTXs9T",
      "include_colab_link": true
    },
    "kernelspec": {
      "name": "python3",
      "display_name": "Python 3"
    }
  },
  "cells": [
    {
      "cell_type": "markdown",
      "metadata": {
        "id": "view-in-github",
        "colab_type": "text"
      },
      "source": [
        "<a href=\"https://colab.research.google.com/github/nunocesarsa/Examples/blob/main/SimpleOperations/xarray_PCA_on_a_Raster.ipynb\" target=\"_parent\"><img src=\"https://colab.research.google.com/assets/colab-badge.svg\" alt=\"Open In Colab\"/></a>"
      ]
    },
    {
      "cell_type": "markdown",
      "metadata": {
        "id": "07imyr9C8cf5"
      },
      "source": [
        "#PS: have to interpret what these functions do before this can be considered to be working\r\n",
        "\r\n",
        "https://ajdawson.github.io/eofs/latest/userguide/overview.html?highlight=pca\r\n",
        "\r\n",
        "\r\n",
        "Useful links:\r\n",
        "\r\n",
        "*   https://github.com/corteva/rioxarray\r\n",
        "*   https://corteva.github.io/rioxarray/stable/rioxarray.html#rioxarray.raster_array.RasterArray.to_raster\r\n",
        "*   http://xarray.pydata.org/en/stable/data-structures.html\r\n",
        "\r\n",
        "\r\n",
        "PS2: at least helps to hint how to input the data into xarray, operate something, and save it. "
      ]
    },
    {
      "cell_type": "markdown",
      "metadata": {
        "id": "e6iMX2O6alF4"
      },
      "source": [
        "#Installing packages"
      ]
    },
    {
      "cell_type": "code",
      "metadata": {
        "colab": {
          "base_uri": "https://localhost:8080/"
        },
        "id": "elKP5W6IaREp",
        "outputId": "ee4ce094-4afb-4f06-c20c-3a8b9c22e36e"
      },
      "source": [
        "!pip install earthpy #might not be necessary\r\n",
        "!pip install eofs\r\n",
        "!pip install rioxarray"
      ],
      "execution_count": 79,
      "outputs": [
        {
          "output_type": "stream",
          "text": [
            "Requirement already satisfied: eofs in /usr/local/lib/python3.7/dist-packages (1.4.0)\n",
            "Requirement already satisfied: numpy in /usr/local/lib/python3.7/dist-packages (from eofs) (1.19.5)\n",
            "Collecting rioxarray\n",
            "\u001b[?25l  Downloading https://files.pythonhosted.org/packages/a2/c7/95c6498848e1e03cde9604b099901b50e20e90e0c81a84b889ebd840a1d1/rioxarray-0.3.1.tar.gz (1.1MB)\n",
            "\u001b[K     |████████████████████████████████| 1.1MB 4.3MB/s \n",
            "\u001b[?25h  Installing build dependencies ... \u001b[?25l\u001b[?25hdone\n",
            "  Getting requirements to build wheel ... \u001b[?25l\u001b[?25hdone\n",
            "    Preparing wheel metadata ... \u001b[?25l\u001b[?25hdone\n",
            "Requirement already satisfied: rasterio in /usr/local/lib/python3.7/dist-packages (from rioxarray) (1.2.1)\n",
            "Requirement already satisfied: xarray in /usr/local/lib/python3.7/dist-packages (from rioxarray) (0.15.1)\n",
            "Requirement already satisfied: pyproj>=2.2 in /usr/local/lib/python3.7/dist-packages (from rioxarray) (3.0.1)\n",
            "Requirement already satisfied: scipy in /usr/local/lib/python3.7/dist-packages (from rioxarray) (1.4.1)\n",
            "Requirement already satisfied: snuggs>=1.4.1 in /usr/local/lib/python3.7/dist-packages (from rasterio->rioxarray) (1.4.7)\n",
            "Requirement already satisfied: cligj>=0.5 in /usr/local/lib/python3.7/dist-packages (from rasterio->rioxarray) (0.7.1)\n",
            "Requirement already satisfied: certifi in /usr/local/lib/python3.7/dist-packages (from rasterio->rioxarray) (2020.12.5)\n",
            "Requirement already satisfied: click<8,>=4.0 in /usr/local/lib/python3.7/dist-packages (from rasterio->rioxarray) (7.1.2)\n",
            "Requirement already satisfied: affine in /usr/local/lib/python3.7/dist-packages (from rasterio->rioxarray) (2.3.0)\n",
            "Requirement already satisfied: click-plugins in /usr/local/lib/python3.7/dist-packages (from rasterio->rioxarray) (1.1.1)\n",
            "Requirement already satisfied: attrs in /usr/local/lib/python3.7/dist-packages (from rasterio->rioxarray) (20.3.0)\n",
            "Requirement already satisfied: numpy in /usr/local/lib/python3.7/dist-packages (from rasterio->rioxarray) (1.19.5)\n",
            "Requirement already satisfied: pandas>=0.25 in /usr/local/lib/python3.7/dist-packages (from xarray->rioxarray) (1.1.5)\n",
            "Requirement already satisfied: setuptools>=41.2 in /usr/local/lib/python3.7/dist-packages (from xarray->rioxarray) (54.0.0)\n",
            "Requirement already satisfied: pyparsing>=2.1.6 in /usr/local/lib/python3.7/dist-packages (from snuggs>=1.4.1->rasterio->rioxarray) (2.4.7)\n",
            "Requirement already satisfied: pytz>=2017.2 in /usr/local/lib/python3.7/dist-packages (from pandas>=0.25->xarray->rioxarray) (2018.9)\n",
            "Requirement already satisfied: python-dateutil>=2.7.3 in /usr/local/lib/python3.7/dist-packages (from pandas>=0.25->xarray->rioxarray) (2.8.1)\n",
            "Requirement already satisfied: six>=1.5 in /usr/local/lib/python3.7/dist-packages (from python-dateutil>=2.7.3->pandas>=0.25->xarray->rioxarray) (1.15.0)\n",
            "Building wheels for collected packages: rioxarray\n",
            "  Building wheel for rioxarray (PEP 517) ... \u001b[?25l\u001b[?25hdone\n",
            "  Created wheel for rioxarray: filename=rioxarray-0.3.1-cp37-none-any.whl size=49120 sha256=72925bd445e7954a6923d8f23652342e4016f5ade690f7a594b614c7fb164e18\n",
            "  Stored in directory: /root/.cache/pip/wheels/67/3c/30/63d30d2f09fb6cd892948576a2866ab0cf1c5b4593cbf17fba\n",
            "Successfully built rioxarray\n",
            "Installing collected packages: rioxarray\n",
            "Successfully installed rioxarray-0.3.1\n"
          ],
          "name": "stdout"
        }
      ]
    },
    {
      "cell_type": "markdown",
      "metadata": {
        "id": "aAkuav0taHob"
      },
      "source": [
        "#loading packages"
      ]
    },
    {
      "cell_type": "code",
      "metadata": {
        "id": "4tCCt509Z1Qc"
      },
      "source": [
        "import xarray as xr\r\n",
        "import rioxarray\r\n",
        "\r\n",
        "import os\r\n",
        "from glob import glob\r\n",
        "\r\n",
        "from rasterio.plot import show\r\n",
        "\r\n",
        "import eofs"
      ],
      "execution_count": 80,
      "outputs": []
    },
    {
      "cell_type": "markdown",
      "metadata": {
        "id": "KBpaEx28arcH"
      },
      "source": [
        "#Downloading sample data\r\n",
        "\r\n",
        "From a tutorial i found online"
      ]
    },
    {
      "cell_type": "code",
      "metadata": {
        "colab": {
          "base_uri": "https://localhost:8080/"
        },
        "id": "p1GU1Qcoaoqo",
        "outputId": "2f580e1c-5d91-46a4-c45f-d02e5022204c"
      },
      "source": [
        "!git clone https://github.com/urbanSpatial/classifying_satellite_imagery_in_R\r\n",
        "\r\n",
        "#fetches the iamges at 30m excluding the panchromatic, cirrus & thermal\r\n",
        "landsat_bands_data_path = \"/content/classifying_satellite_imagery_in_R/data/band*[1-7]*.tif\"\r\n",
        "\r\n",
        "#data is unsorted so all these steps fix that \r\n",
        "stack_band_paths = glob(landsat_bands_data_path)\r\n",
        "stack_band_paths.sort()\r\n",
        "\r\n",
        "#resorting because of the band names \r\n",
        "stack_band_paths_sorted = [stack_band_paths[i] for i in [0,3,4,5,6,7,8]]\r\n"
      ],
      "execution_count": 8,
      "outputs": [
        {
          "output_type": "stream",
          "text": [
            "fatal: destination path 'classifying_satellite_imagery_in_R' already exists and is not an empty directory.\n"
          ],
          "name": "stdout"
        }
      ]
    },
    {
      "cell_type": "code",
      "metadata": {
        "colab": {
          "base_uri": "https://localhost:8080/"
        },
        "id": "-RlVeO5Peqwh",
        "outputId": "a8d71909-aee7-46d7-fe5c-16121ef93334"
      },
      "source": [
        "for i in range(len(stack_band_paths_sorted)):\r\n",
        "  print(i)\r\n",
        "  if i == 0: \r\n",
        "    r_out = xr.open_rasterio(stack_band_paths_sorted[i])\r\n",
        "  else:\r\n",
        "    r_tmp = xr.open_rasterio(stack_band_paths_sorted[i])\r\n",
        "    r_out = xr.concat([r_out,r_tmp],dim='time')\r\n"
      ],
      "execution_count": 108,
      "outputs": [
        {
          "output_type": "stream",
          "text": [
            "0\n",
            "1\n",
            "2\n",
            "3\n",
            "4\n",
            "5\n",
            "6\n"
          ],
          "name": "stdout"
        }
      ]
    },
    {
      "cell_type": "code",
      "metadata": {
        "colab": {
          "base_uri": "https://localhost:8080/"
        },
        "id": "HS56VSiVsqM-",
        "outputId": "00b09259-4786-43e0-b0f3-e5b3bda2c986"
      },
      "source": [
        "!mkdir outputs\r\n",
        "\r\n",
        "\r\n",
        "for i in range(len(stack_band_paths_sorted)):\r\n",
        "  print(i)\r\n",
        "  temp_out = pca_out.eofs().isel(mode=i)\r\n",
        "  #temp_out.coords..drop(labels='mode')\r\n",
        "  #temp.drop(labels='band')\r\n",
        "  temp_out.rio.to_raster('/content/outputs/Landsat_PCA_xarray'+str(i+1)+'.tif')\r\n",
        "\r\n",
        "\r\n"
      ],
      "execution_count": 152,
      "outputs": [
        {
          "output_type": "stream",
          "text": [
            "mkdir: cannot create directory ‘outputs’: File exists\n",
            "0\n",
            "1\n",
            "2\n",
            "3\n",
            "4\n",
            "5\n",
            "6\n"
          ],
          "name": "stdout"
        }
      ]
    }
  ]
}