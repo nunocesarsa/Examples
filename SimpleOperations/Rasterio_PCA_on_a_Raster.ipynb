{
  "nbformat": 4,
  "nbformat_minor": 0,
  "metadata": {
    "colab": {
      "name": "PCA on a Raster.ipynb",
      "provenance": [],
      "toc_visible": true,
      "authorship_tag": "ABX9TyMHM250AnIjoqIYd+o1s1SX",
      "include_colab_link": true
    },
    "kernelspec": {
      "name": "python3",
      "display_name": "Python 3"
    }
  },
  "cells": [
    {
      "cell_type": "markdown",
      "metadata": {
        "id": "view-in-github",
        "colab_type": "text"
      },
      "source": [
        "<a href=\"https://colab.research.google.com/github/nunocesarsa/Examples/blob/main/SimpleOperations/PCA_on_a_Raster.ipynb\" target=\"_parent\"><img src=\"https://colab.research.google.com/assets/colab-badge.svg\" alt=\"Open In Colab\"/></a>"
      ]
    },
    {
      "cell_type": "markdown",
      "metadata": {
        "id": "RziSmN8Zv-sR"
      },
      "source": [
        "#loading packages"
      ]
    },
    {
      "cell_type": "code",
      "metadata": {
        "colab": {
          "base_uri": "https://localhost:8080/"
        },
        "id": "iCWuJvb8v6pB",
        "outputId": "b896a220-0db7-4172-f2cc-47600ba96c11"
      },
      "source": [
        "!pip install pyrsgis\r\n",
        "!pip install rasterio\r\n",
        "!pip install pyproj\r\n",
        "!pip install earthpy\r\n",
        "!pip install rasterstats\r\n",
        "\r\n",
        "from pyrsgis.convert import changeDimension\r\n",
        "from pyrsgis import raster\r\n",
        "import rasterio\r\n",
        "import pyproj\r\n",
        "import earthpy.spatial as es\r\n",
        "\r\n",
        "import numpy as np\r\n",
        "import pandas as pd\r\n",
        "\r\n",
        "import os\r\n",
        "from glob import glob\r\n",
        "\r\n",
        "import sklearn\r\n",
        "from sklearn import decomposition\r\n",
        "\r\n",
        "import rasterstats"
      ],
      "execution_count": 49,
      "outputs": [
        {
          "output_type": "stream",
          "text": [
            "Requirement already satisfied: pyrsgis in /usr/local/lib/python3.7/dist-packages (0.3.3)\n",
            "Requirement already satisfied: rasterio in /usr/local/lib/python3.7/dist-packages (1.2.1)\n",
            "Requirement already satisfied: click<8,>=4.0 in /usr/local/lib/python3.7/dist-packages (from rasterio) (7.1.2)\n",
            "Requirement already satisfied: affine in /usr/local/lib/python3.7/dist-packages (from rasterio) (2.3.0)\n",
            "Requirement already satisfied: numpy in /usr/local/lib/python3.7/dist-packages (from rasterio) (1.19.5)\n",
            "Requirement already satisfied: click-plugins in /usr/local/lib/python3.7/dist-packages (from rasterio) (1.1.1)\n",
            "Requirement already satisfied: attrs in /usr/local/lib/python3.7/dist-packages (from rasterio) (20.3.0)\n",
            "Requirement already satisfied: certifi in /usr/local/lib/python3.7/dist-packages (from rasterio) (2020.12.5)\n",
            "Requirement already satisfied: snuggs>=1.4.1 in /usr/local/lib/python3.7/dist-packages (from rasterio) (1.4.7)\n",
            "Requirement already satisfied: cligj>=0.5 in /usr/local/lib/python3.7/dist-packages (from rasterio) (0.7.1)\n",
            "Requirement already satisfied: pyparsing>=2.1.6 in /usr/local/lib/python3.7/dist-packages (from snuggs>=1.4.1->rasterio) (2.4.7)\n",
            "Requirement already satisfied: pyproj in /usr/local/lib/python3.7/dist-packages (3.0.1)\n",
            "Requirement already satisfied: certifi in /usr/local/lib/python3.7/dist-packages (from pyproj) (2020.12.5)\n",
            "Requirement already satisfied: earthpy in /usr/local/lib/python3.7/dist-packages (0.9.2)\n",
            "Requirement already satisfied: geopandas in /usr/local/lib/python3.7/dist-packages (from earthpy) (0.9.0)\n",
            "Requirement already satisfied: requests in /usr/local/lib/python3.7/dist-packages (from earthpy) (2.23.0)\n",
            "Requirement already satisfied: scikit-image in /usr/local/lib/python3.7/dist-packages (from earthpy) (0.16.2)\n",
            "Requirement already satisfied: numpy>=1.14.0 in /usr/local/lib/python3.7/dist-packages (from earthpy) (1.19.5)\n",
            "Requirement already satisfied: matplotlib>=2.0.0 in /usr/local/lib/python3.7/dist-packages (from earthpy) (3.2.2)\n",
            "Requirement already satisfied: rasterio in /usr/local/lib/python3.7/dist-packages (from earthpy) (1.2.1)\n",
            "Requirement already satisfied: pandas>=0.24.0 in /usr/local/lib/python3.7/dist-packages (from geopandas->earthpy) (1.1.5)\n",
            "Requirement already satisfied: fiona>=1.8 in /usr/local/lib/python3.7/dist-packages (from geopandas->earthpy) (1.8.18)\n",
            "Requirement already satisfied: shapely>=1.6 in /usr/local/lib/python3.7/dist-packages (from geopandas->earthpy) (1.7.1)\n",
            "Requirement already satisfied: pyproj>=2.2.0 in /usr/local/lib/python3.7/dist-packages (from geopandas->earthpy) (3.0.1)\n",
            "Requirement already satisfied: idna<3,>=2.5 in /usr/local/lib/python3.7/dist-packages (from requests->earthpy) (2.10)\n",
            "Requirement already satisfied: certifi>=2017.4.17 in /usr/local/lib/python3.7/dist-packages (from requests->earthpy) (2020.12.5)\n",
            "Requirement already satisfied: urllib3!=1.25.0,!=1.25.1,<1.26,>=1.21.1 in /usr/local/lib/python3.7/dist-packages (from requests->earthpy) (1.24.3)\n",
            "Requirement already satisfied: chardet<4,>=3.0.2 in /usr/local/lib/python3.7/dist-packages (from requests->earthpy) (3.0.4)\n",
            "Requirement already satisfied: scipy>=0.19.0 in /usr/local/lib/python3.7/dist-packages (from scikit-image->earthpy) (1.4.1)\n",
            "Requirement already satisfied: PyWavelets>=0.4.0 in /usr/local/lib/python3.7/dist-packages (from scikit-image->earthpy) (1.1.1)\n",
            "Requirement already satisfied: pillow>=4.3.0 in /usr/local/lib/python3.7/dist-packages (from scikit-image->earthpy) (7.0.0)\n",
            "Requirement already satisfied: networkx>=2.0 in /usr/local/lib/python3.7/dist-packages (from scikit-image->earthpy) (2.5)\n",
            "Requirement already satisfied: imageio>=2.3.0 in /usr/local/lib/python3.7/dist-packages (from scikit-image->earthpy) (2.4.1)\n",
            "Requirement already satisfied: python-dateutil>=2.1 in /usr/local/lib/python3.7/dist-packages (from matplotlib>=2.0.0->earthpy) (2.8.1)\n",
            "Requirement already satisfied: pyparsing!=2.0.4,!=2.1.2,!=2.1.6,>=2.0.1 in /usr/local/lib/python3.7/dist-packages (from matplotlib>=2.0.0->earthpy) (2.4.7)\n",
            "Requirement already satisfied: kiwisolver>=1.0.1 in /usr/local/lib/python3.7/dist-packages (from matplotlib>=2.0.0->earthpy) (1.3.1)\n",
            "Requirement already satisfied: cycler>=0.10 in /usr/local/lib/python3.7/dist-packages (from matplotlib>=2.0.0->earthpy) (0.10.0)\n",
            "Requirement already satisfied: snuggs>=1.4.1 in /usr/local/lib/python3.7/dist-packages (from rasterio->earthpy) (1.4.7)\n",
            "Requirement already satisfied: click<8,>=4.0 in /usr/local/lib/python3.7/dist-packages (from rasterio->earthpy) (7.1.2)\n",
            "Requirement already satisfied: affine in /usr/local/lib/python3.7/dist-packages (from rasterio->earthpy) (2.3.0)\n",
            "Requirement already satisfied: click-plugins in /usr/local/lib/python3.7/dist-packages (from rasterio->earthpy) (1.1.1)\n",
            "Requirement already satisfied: attrs in /usr/local/lib/python3.7/dist-packages (from rasterio->earthpy) (20.3.0)\n",
            "Requirement already satisfied: cligj>=0.5 in /usr/local/lib/python3.7/dist-packages (from rasterio->earthpy) (0.7.1)\n",
            "Requirement already satisfied: pytz>=2017.2 in /usr/local/lib/python3.7/dist-packages (from pandas>=0.24.0->geopandas->earthpy) (2018.9)\n",
            "Requirement already satisfied: six>=1.7 in /usr/local/lib/python3.7/dist-packages (from fiona>=1.8->geopandas->earthpy) (1.15.0)\n",
            "Requirement already satisfied: munch in /usr/local/lib/python3.7/dist-packages (from fiona>=1.8->geopandas->earthpy) (2.5.0)\n",
            "Requirement already satisfied: decorator>=4.3.0 in /usr/local/lib/python3.7/dist-packages (from networkx>=2.0->scikit-image->earthpy) (4.4.2)\n",
            "Collecting rasterstats\n",
            "  Downloading https://files.pythonhosted.org/packages/9f/52/055b2b736e4aa1126c4619a561b44c3bc30fbe48025e6f3275b92928a0a0/rasterstats-0.15.0-py3-none-any.whl\n",
            "Requirement already satisfied: rasterio>=1.0 in /usr/local/lib/python3.7/dist-packages (from rasterstats) (1.2.1)\n",
            "Collecting simplejson\n",
            "\u001b[?25l  Downloading https://files.pythonhosted.org/packages/a8/04/377418ac1e530ce2a196b54c6552c018fdf1fe776718053efb1f216bffcd/simplejson-3.17.2-cp37-cp37m-manylinux2010_x86_64.whl (128kB)\n",
            "\u001b[K     |████████████████████████████████| 133kB 12.9MB/s \n",
            "\u001b[?25hRequirement already satisfied: shapely in /usr/local/lib/python3.7/dist-packages (from rasterstats) (1.7.1)\n",
            "Requirement already satisfied: cligj>=0.4 in /usr/local/lib/python3.7/dist-packages (from rasterstats) (0.7.1)\n",
            "Requirement already satisfied: fiona in /usr/local/lib/python3.7/dist-packages (from rasterstats) (1.8.18)\n",
            "Requirement already satisfied: numpy>=1.9 in /usr/local/lib/python3.7/dist-packages (from rasterstats) (1.19.5)\n",
            "Requirement already satisfied: affine<3.0 in /usr/local/lib/python3.7/dist-packages (from rasterstats) (2.3.0)\n",
            "Requirement already satisfied: attrs in /usr/local/lib/python3.7/dist-packages (from rasterio>=1.0->rasterstats) (20.3.0)\n",
            "Requirement already satisfied: snuggs>=1.4.1 in /usr/local/lib/python3.7/dist-packages (from rasterio>=1.0->rasterstats) (1.4.7)\n",
            "Requirement already satisfied: click<8,>=4.0 in /usr/local/lib/python3.7/dist-packages (from rasterio>=1.0->rasterstats) (7.1.2)\n",
            "Requirement already satisfied: certifi in /usr/local/lib/python3.7/dist-packages (from rasterio>=1.0->rasterstats) (2020.12.5)\n",
            "Requirement already satisfied: click-plugins in /usr/local/lib/python3.7/dist-packages (from rasterio>=1.0->rasterstats) (1.1.1)\n",
            "Requirement already satisfied: six>=1.7 in /usr/local/lib/python3.7/dist-packages (from fiona->rasterstats) (1.15.0)\n",
            "Requirement already satisfied: munch in /usr/local/lib/python3.7/dist-packages (from fiona->rasterstats) (2.5.0)\n",
            "Requirement already satisfied: pyparsing>=2.1.6 in /usr/local/lib/python3.7/dist-packages (from snuggs>=1.4.1->rasterio>=1.0->rasterstats) (2.4.7)\n",
            "Installing collected packages: simplejson, rasterstats\n",
            "Successfully installed rasterstats-0.15.0 simplejson-3.17.2\n"
          ],
          "name": "stdout"
        }
      ]
    },
    {
      "cell_type": "markdown",
      "metadata": {
        "id": "-qJPn1e3wXKg"
      },
      "source": [
        "#Downloading raster data from some guys tutorial "
      ]
    },
    {
      "cell_type": "code",
      "metadata": {
        "colab": {
          "base_uri": "https://localhost:8080/"
        },
        "id": "4MLmCH56wIpe",
        "outputId": "52ed0a68-be55-4b14-d61c-0bc1ef32cbb0"
      },
      "source": [
        "!git clone https://github.com/urbanSpatial/classifying_satellite_imagery_in_R"
      ],
      "execution_count": 6,
      "outputs": [
        {
          "output_type": "stream",
          "text": [
            "Cloning into 'classifying_satellite_imagery_in_R'...\n",
            "remote: Enumerating objects: 26, done.\u001b[K\n",
            "remote: Counting objects: 100% (26/26), done.\u001b[K\n",
            "remote: Compressing objects: 100% (23/23), done.\u001b[K\n",
            "remote: Total 106 (delta 2), reused 23 (delta 2), pack-reused 80\u001b[K\n",
            "Receiving objects: 100% (106/106), 42.79 MiB | 7.13 MiB/s, done.\n",
            "Resolving deltas: 100% (30/30), done.\n"
          ],
          "name": "stdout"
        }
      ]
    },
    {
      "cell_type": "markdown",
      "metadata": {
        "id": "KDUUQSYBwtF0"
      },
      "source": [
        "#loading and stacking the data"
      ]
    },
    {
      "cell_type": "code",
      "metadata": {
        "id": "wLqRVRkFwyd3"
      },
      "source": [
        "#fetches the iamges at 30m excluding the panchromatic and cirrus \r\n",
        "landsat_bands_data_path = \"/content/classifying_satellite_imagery_in_R/data/band*[1-7]*.tif\"\r\n",
        "\r\n",
        "stack_band_paths = glob(landsat_bands_data_path)\r\n",
        "stack_band_paths.sort()\r\n",
        "\r\n",
        "#resorting because of the band names \r\n",
        "stack_band_paths_sorted = [stack_band_paths[i] for i in [0,3,4,5,6,7,8]]\r\n",
        "\r\n",
        "# Create image stack and apply nodata value for Landsat\r\n",
        "arr_st, meta = es.stack(stack_band_paths_sorted, nodata=-9999)\r\n",
        "\r\n",
        "\r\n",
        "#and saving to a file in outputs folder\r\n",
        "!mkdir outputs\r\n",
        "es.stack(stack_band_paths_sorted, out_path='/content/outputs/Landsat.tif') #fails because of uint16 if we add the thermals\r\n"
      ],
      "execution_count": null,
      "outputs": []
    },
    {
      "cell_type": "markdown",
      "metadata": {
        "id": "TuMqS_5nyKJv"
      },
      "source": [
        "#loading the multiband stack"
      ]
    },
    {
      "cell_type": "code",
      "metadata": {
        "colab": {
          "base_uri": "https://localhost:8080/"
        },
        "id": "HUYixa45waS9",
        "outputId": "a0645488-23e4-45bf-aa7d-826761a167a9"
      },
      "source": [
        "#lading the landsat data \r\n",
        "ds1, bands = raster.read('/content/outputs/Landsat.tif')\r\n",
        "\r\n",
        "print(ds1)\r\n",
        "print('Original data:',bands.shape)\r\n",
        "\r\n",
        "bandByPixel = changeDimension(bands) #we have to devide all values by 10k - its a conversion from bits to reflectances\r\n",
        "bandByPixel_t = np.transpose(bandByPixel)\r\n",
        "\r\n",
        "print('Converted:',bandByPixel.shape)\r\n",
        "print('Converted & transposed:',bandByPixel_t.shape)"
      ],
      "execution_count": 50,
      "outputs": [
        {
          "output_type": "stream",
          "text": [
            "<pyrsgis.raster.createDS object at 0x7fb44ef85690>\n",
            "Original data: (7, 1413, 1121)\n",
            "Converted: (1583973, 7)\n",
            "Converted & transposed: (7, 1583973)\n"
          ],
          "name": "stdout"
        }
      ]
    },
    {
      "cell_type": "markdown",
      "metadata": {
        "id": "e8dthngoymsr"
      },
      "source": [
        "#Calculating the PCA"
      ]
    },
    {
      "cell_type": "code",
      "metadata": {
        "colab": {
          "base_uri": "https://localhost:8080/"
        },
        "id": "eqBn1WFdwaEZ",
        "outputId": "36e26951-808f-4226-f2d6-87534d4fcd49"
      },
      "source": [
        "pca = sklearn.decomposition.PCA(bandByPixel_t)\r\n",
        "pca.n_components.shape\r\n",
        "np.transpose(pca.n_components).shape"
      ],
      "execution_count": 35,
      "outputs": [
        {
          "output_type": "execute_result",
          "data": {
            "text/plain": [
              "(1583973, 7)"
            ]
          },
          "metadata": {
            "tags": []
          },
          "execution_count": 35
        }
      ]
    },
    {
      "cell_type": "code",
      "metadata": {
        "colab": {
          "base_uri": "https://localhost:8080/"
        },
        "id": "T4kNqZBXyxiy",
        "outputId": "fce29028-b62f-4766-d202-fef60ff06df3"
      },
      "source": [
        "#Reconverting\r\n",
        "out_pca_t = pca.n_components\r\n",
        "\r\n",
        "out_pca = np.transpose(out_pca_t)\r\n",
        "\r\n",
        "print('PCA_t',out_pca_t.shape)\r\n",
        "print('PCA',out_pca.shape)"
      ],
      "execution_count": 62,
      "outputs": [
        {
          "output_type": "stream",
          "text": [
            "PCA_t (7, 1583973)\n",
            "PCA (1583973, 7)\n"
          ],
          "name": "stdout"
        }
      ]
    },
    {
      "cell_type": "markdown",
      "metadata": {
        "id": "l1SuQS-L5quj"
      },
      "source": [
        "#Saving the raster"
      ]
    },
    {
      "cell_type": "code",
      "metadata": {
        "colab": {
          "base_uri": "https://localhost:8080/"
        },
        "id": "PLMLPsQz5s9b",
        "outputId": "18e6aff8-b441-40c3-96ca-c166395a8366"
      },
      "source": [
        "#this saves all the components into separate bands\r\n",
        "for i in range(out_pca.shape[1]):\r\n",
        "  print(\"Saving component:\",i+1)\r\n",
        "\r\n",
        "  pca_i = np.reshape(out_pca[:,i],(ds1.RasterYSize,ds1.RasterXSize))\r\n",
        "  out_name = '/content/outputs/LandsatPCA_'+str(i+1)+'.tif'\r\n",
        "  raster.export(pca_i,ds1,out_name,dtype='float')\r\n"
      ],
      "execution_count": 70,
      "outputs": [
        {
          "output_type": "stream",
          "text": [
            "Saving component: 1\n",
            "Saving component: 2\n",
            "Saving component: 3\n",
            "Saving component: 4\n",
            "Saving component: 5\n",
            "Saving component: 6\n",
            "Saving component: 7\n"
          ],
          "name": "stdout"
        }
      ]
    },
    {
      "cell_type": "markdown",
      "metadata": {
        "id": "_Lm5KA0h7s6S"
      },
      "source": [
        "#Creating a multiband raster and saving"
      ]
    },
    {
      "cell_type": "code",
      "metadata": {
        "colab": {
          "base_uri": "https://localhost:8080/"
        },
        "id": "9MVj-KlV7pTp",
        "outputId": "dba367ab-d4da-461d-cf36-5538052c5161"
      },
      "source": [
        "#fetches the iamges at 30m excluding the panchromatic and cirrus \r\n",
        "landsat_bands_data_path = \"/content/outputs/LandsatPCA_[1-7]*.tif\"\r\n",
        "stack_band_paths = glob(landsat_bands_data_path)\r\n",
        "\r\n",
        "stack_band_paths #comment from here in case it doesn't need sorting\r\n",
        "stack_band_paths.sort() \r\n",
        "stack_band_paths"
      ],
      "execution_count": 85,
      "outputs": [
        {
          "output_type": "execute_result",
          "data": {
            "text/plain": [
              "['/content/outputs/LandsatPCA_1.tif',\n",
              " '/content/outputs/LandsatPCA_2.tif',\n",
              " '/content/outputs/LandsatPCA_3.tif',\n",
              " '/content/outputs/LandsatPCA_4.tif',\n",
              " '/content/outputs/LandsatPCA_5.tif',\n",
              " '/content/outputs/LandsatPCA_6.tif',\n",
              " '/content/outputs/LandsatPCA_7.tif']"
            ]
          },
          "metadata": {
            "tags": []
          },
          "execution_count": 85
        }
      ]
    },
    {
      "cell_type": "markdown",
      "metadata": {
        "id": "YHhl3bRt9Ib-"
      },
      "source": [
        "#Saving the multiband PCA"
      ]
    },
    {
      "cell_type": "code",
      "metadata": {
        "id": "Euiruygu9CmG"
      },
      "source": [
        "es.stack(stack_band_paths, out_path='/content/outputs/Landsat_PCA.tif') #fails because of uint16 if we add the thermals\r\n"
      ],
      "execution_count": null,
      "outputs": []
    }
  ]
}
