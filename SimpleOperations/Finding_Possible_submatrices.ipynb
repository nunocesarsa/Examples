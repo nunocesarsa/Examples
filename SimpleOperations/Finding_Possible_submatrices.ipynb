{
  "nbformat": 4,
  "nbformat_minor": 0,
  "metadata": {
    "colab": {
      "name": "Finding Possible submatrices.ipynb",
      "provenance": [],
      "authorship_tag": "ABX9TyOEwqpFUUB15ULcE4q4wHqb",
      "include_colab_link": true
    },
    "kernelspec": {
      "name": "python3",
      "display_name": "Python 3"
    },
    "language_info": {
      "name": "python"
    }
  },
  "cells": [
    {
      "cell_type": "markdown",
      "metadata": {
        "id": "view-in-github",
        "colab_type": "text"
      },
      "source": [
        "<a href=\"https://colab.research.google.com/github/nunocesarsa/Examples/blob/main/SimpleOperations/Finding_Possible_submatrices.ipynb\" target=\"_parent\"><img src=\"https://colab.research.google.com/assets/colab-badge.svg\" alt=\"Open In Colab\"/></a>"
      ]
    },
    {
      "cell_type": "markdown",
      "metadata": {
        "id": "WNxwf28eNvba"
      },
      "source": [
        "#Issue:\n",
        "\n",
        "When preparing data for a computer vision task we often have to reduce the size of the data into a smaller subset of the data that can be feed on the neural network. \n",
        "\n",
        "For example, if we are given an image of 1200 x 1200 size, then we might want to subsets for 24x24 of the image to train our model. This selection is either arbitary or dependant on the model we will use. \n",
        "\n",
        "Sometimes the size of the subset that we choose will \"overshoot\" the size of the original and therefore, we will have to add x amount of zeros to the matrice in order to not break the model. \n",
        "\n",
        "- Let's that we want to avoid padding the data and we want to create a function that efficiently finds which possible subset sizes i can create given some original matrix with size N x M. \n",
        "\n",
        "Formally, we given a subset of N x M we want to find all the possibilities of K x K such that:\n",
        "- K <= N & K <= M \n",
        "- K % N = 0 & K % M = 0\n"
      ]
    },
    {
      "cell_type": "code",
      "metadata": {
        "id": "40Y-C_UfQ3Eh"
      },
      "source": [
        "import numpy as np\n",
        "import math\n",
        "\n",
        "import pandas as pd\n",
        "import time"
      ],
      "execution_count": 91,
      "outputs": []
    },
    {
      "cell_type": "markdown",
      "metadata": {
        "id": "qinR7B5yQ-Th"
      },
      "source": [
        "# Naive approach\n",
        "\n",
        "- A for loop in each direction of the matrix which appends the ith value to an output array when the conditions are met. \n",
        "- When its a prime number, it return only 1 or itself. \n",
        "- Optionally, finds the common numbers between both directions to return the possible square matrices\n",
        "\n",
        "\n"
      ]
    },
    {
      "cell_type": "code",
      "metadata": {
        "colab": {
          "base_uri": "https://localhost:8080/"
        },
        "id": "8zEzDbTiRKTy",
        "outputId": "7e22322b-ff1b-4f98-9fd9-90903488c617"
      },
      "source": [
        "test_mat = np.zeros((20,25))\n",
        "test_mat2 = np.zeros((20,13))\n",
        "test_mat3 = np.zeros((20,10))\n",
        "test_mat4 = np.zeros((100,100))\n",
        "\n",
        "def naive_method(in_matrix,returnSquare=False):\n",
        "\n",
        "  #takes the shape parameters\n",
        "  in_r, in_c = in_matrix.shape\n",
        "\n",
        "  #empty to be filled\n",
        "  r_arr = []\n",
        "  c_arr = []\n",
        "\n",
        "  for i in range(1,in_r+1): # so it includes all possibilities\n",
        "    if in_r % i == 0:\n",
        "      r_arr.append(i)\n",
        "  \n",
        "  for i in range(1,in_c+1):\n",
        "    if in_c % i == 0:\n",
        "      c_arr.append(i)\n",
        "\n",
        "  if returnSquare == True:\n",
        "    out_set = list(frozenset(r_arr).intersection(c_arr))\n",
        "    return(sorted(out_set))\n",
        "\n",
        "  else:\n",
        "    out_set = [r_arr, c_arr]\n",
        "    return(out_set)\n",
        "\n",
        "#Function tested\n",
        "print(naive_method(test_mat3,returnSquare=False))\n",
        "print(naive_method(test_mat3,returnSquare=True))"
      ],
      "execution_count": 99,
      "outputs": [
        {
          "output_type": "stream",
          "text": [
            "[[1, 2, 4, 5, 10, 20], [1, 2, 5, 10]]\n",
            "[1, 2, 5, 10]\n"
          ],
          "name": "stdout"
        }
      ]
    },
    {
      "cell_type": "markdown",
      "metadata": {
        "id": "H56a6IDp6YrV"
      },
      "source": [
        "#Less naive\n",
        "\n"
      ]
    },
    {
      "cell_type": "code",
      "metadata": {
        "colab": {
          "base_uri": "https://localhost:8080/"
        },
        "id": "zW3g_2Ij64vM",
        "outputId": "b492e4fd-1444-46f6-8546-780615a19254"
      },
      "source": [
        "def less_naive_method(in_matrix,returnSquare=False):\n",
        "\n",
        "  #takes the shape parameters\n",
        "  in_r, in_c = in_matrix.shape\n",
        "\n",
        "  #empty to be filled\n",
        "  r_arr = []\n",
        "  c_arr = []\n",
        "\n",
        "  i=1\n",
        "  while i <= math.sqrt(in_r):\n",
        "    if in_r % i == 0:\n",
        "      \n",
        "      r_arr.append(i)\n",
        "      #check for repetition\n",
        "      if (i != in_r/i):\n",
        "        r_arr.append(int(in_r/i))\n",
        "    i=i+1\n",
        "  r_arr = sorted(r_arr)\n",
        "\n",
        "  i=1\n",
        "  while i <= math.sqrt(in_c):\n",
        "    if in_c % i == 0:\n",
        "      c_arr.append(i)\n",
        "      #check for repetition\n",
        "      if (i != in_c/i):\n",
        "        c_arr.append(int(in_c/i))      \n",
        "    i=i+1\n",
        "  c_arr = sorted(c_arr)\n",
        "\n",
        "  #in case we only want squared matrices\n",
        "  if returnSquare == True:\n",
        "    out_set = list(frozenset(r_arr).intersection(c_arr))\n",
        "    return(sorted(out_set))\n",
        "\n",
        "  else:\n",
        "    out_set = [r_arr, c_arr]\n",
        "    return(out_set)\n",
        "\n",
        "\n",
        "print(less_naive_method(test_mat4,returnSquare=False))\n",
        "print(less_naive_method(test_mat4,returnSquare=True))"
      ],
      "execution_count": 103,
      "outputs": [
        {
          "output_type": "stream",
          "text": [
            "[[1, 2, 4, 5, 10, 20, 25, 50, 100], [1, 2, 4, 5, 10, 20, 25, 50, 100]]\n",
            "[1, 2, 4, 5, 10, 20, 25, 50, 100]\n"
          ],
          "name": "stdout"
        }
      ]
    },
    {
      "cell_type": "markdown",
      "metadata": {
        "id": "JG-Ft-lADvpH"
      },
      "source": [
        "#Testing"
      ]
    },
    {
      "cell_type": "code",
      "metadata": {
        "colab": {
          "base_uri": "https://localhost:8080/"
        },
        "id": "fKQpOt2CDw5G",
        "outputId": "74c3995a-1fa4-4f23-e7dc-1c01a41ba9c7"
      },
      "source": [
        "test_mat = np.zeros((20,25))\n",
        "test_mat2 = np.zeros((20,13))\n",
        "test_mat3 = np.zeros((20,10))\n",
        "test_mat4 = np.zeros((100,100))\n",
        "\n",
        "print(\"Naive:\" , naive_method(test_mat3))\n",
        "print(\"Less naive:\" ,less_naive_method(test_mat3))\n"
      ],
      "execution_count": 107,
      "outputs": [
        {
          "output_type": "stream",
          "text": [
            "Naive: [[1, 2, 4, 5, 10, 20], [1, 2, 5, 10]]\n",
            "Less naive: [[1, 2, 4, 5, 10, 20], [1, 2, 5, 10]]\n"
          ],
          "name": "stdout"
        }
      ]
    },
    {
      "cell_type": "markdown",
      "metadata": {
        "id": "iwFlHqhBEE5I"
      },
      "source": [
        "#Comparing computation time"
      ]
    },
    {
      "cell_type": "code",
      "metadata": {
        "colab": {
          "base_uri": "https://localhost:8080/",
          "height": 419
        },
        "id": "DJlrt5ZGRkgb",
        "outputId": "ab5d017f-4e43-4951-84f6-9d58d718de5d"
      },
      "source": [
        "iterator = []\n",
        "time_naive = []\n",
        "time_less_naive =[]\n",
        "\n",
        "for i in range (10,10000+11,100):\n",
        "  #print(i)\n",
        "\n",
        "  #test matrix\n",
        "  test_mat = np.zeros((i,i))\n",
        "\n",
        "  iterator.append(i)\n",
        "\n",
        "  init_time = time.time()\n",
        "  bb=naive_method(test_mat,returnSquare=True)\n",
        "  time_naive.append(time.time()-init_time)\n",
        "\n",
        "  init_time = time.time()\n",
        "  bb=less_naive_method(test_mat,returnSquare=True)\n",
        "  time_less_naive.append(time.time()-init_time)\n",
        "\n",
        "  d = {'Matrix': iterator, 'Time_naive': time_naive, 'Time_less_naive': time_less_naive}\n",
        "  df = pd.DataFrame(data=d)\n",
        "\n",
        "\n",
        "df\n",
        "\n"
      ],
      "execution_count": 139,
      "outputs": [
        {
          "output_type": "execute_result",
          "data": {
            "text/html": [
              "<div>\n",
              "<style scoped>\n",
              "    .dataframe tbody tr th:only-of-type {\n",
              "        vertical-align: middle;\n",
              "    }\n",
              "\n",
              "    .dataframe tbody tr th {\n",
              "        vertical-align: top;\n",
              "    }\n",
              "\n",
              "    .dataframe thead th {\n",
              "        text-align: right;\n",
              "    }\n",
              "</style>\n",
              "<table border=\"1\" class=\"dataframe\">\n",
              "  <thead>\n",
              "    <tr style=\"text-align: right;\">\n",
              "      <th></th>\n",
              "      <th>Matrix</th>\n",
              "      <th>Time_naive</th>\n",
              "      <th>Time_less_naive</th>\n",
              "    </tr>\n",
              "  </thead>\n",
              "  <tbody>\n",
              "    <tr>\n",
              "      <th>0</th>\n",
              "      <td>10</td>\n",
              "      <td>0.000037</td>\n",
              "      <td>0.000022</td>\n",
              "    </tr>\n",
              "    <tr>\n",
              "      <th>1</th>\n",
              "      <td>110</td>\n",
              "      <td>0.000059</td>\n",
              "      <td>0.000031</td>\n",
              "    </tr>\n",
              "    <tr>\n",
              "      <th>2</th>\n",
              "      <td>210</td>\n",
              "      <td>0.000072</td>\n",
              "      <td>0.000041</td>\n",
              "    </tr>\n",
              "    <tr>\n",
              "      <th>3</th>\n",
              "      <td>310</td>\n",
              "      <td>0.000052</td>\n",
              "      <td>0.000021</td>\n",
              "    </tr>\n",
              "    <tr>\n",
              "      <th>4</th>\n",
              "      <td>410</td>\n",
              "      <td>0.000090</td>\n",
              "      <td>0.000022</td>\n",
              "    </tr>\n",
              "    <tr>\n",
              "      <th>...</th>\n",
              "      <td>...</td>\n",
              "      <td>...</td>\n",
              "      <td>...</td>\n",
              "    </tr>\n",
              "    <tr>\n",
              "      <th>96</th>\n",
              "      <td>9610</td>\n",
              "      <td>0.001470</td>\n",
              "      <td>0.000070</td>\n",
              "    </tr>\n",
              "    <tr>\n",
              "      <th>97</th>\n",
              "      <td>9710</td>\n",
              "      <td>0.001513</td>\n",
              "      <td>0.000071</td>\n",
              "    </tr>\n",
              "    <tr>\n",
              "      <th>98</th>\n",
              "      <td>9810</td>\n",
              "      <td>0.001476</td>\n",
              "      <td>0.000080</td>\n",
              "    </tr>\n",
              "    <tr>\n",
              "      <th>99</th>\n",
              "      <td>9910</td>\n",
              "      <td>0.001492</td>\n",
              "      <td>0.000067</td>\n",
              "    </tr>\n",
              "    <tr>\n",
              "      <th>100</th>\n",
              "      <td>10010</td>\n",
              "      <td>0.001543</td>\n",
              "      <td>0.000084</td>\n",
              "    </tr>\n",
              "  </tbody>\n",
              "</table>\n",
              "<p>101 rows × 3 columns</p>\n",
              "</div>"
            ],
            "text/plain": [
              "     Matrix  Time_naive  Time_less_naive\n",
              "0        10    0.000037         0.000022\n",
              "1       110    0.000059         0.000031\n",
              "2       210    0.000072         0.000041\n",
              "3       310    0.000052         0.000021\n",
              "4       410    0.000090         0.000022\n",
              "..      ...         ...              ...\n",
              "96     9610    0.001470         0.000070\n",
              "97     9710    0.001513         0.000071\n",
              "98     9810    0.001476         0.000080\n",
              "99     9910    0.001492         0.000067\n",
              "100   10010    0.001543         0.000084\n",
              "\n",
              "[101 rows x 3 columns]"
            ]
          },
          "metadata": {
            "tags": []
          },
          "execution_count": 139
        }
      ]
    },
    {
      "cell_type": "markdown",
      "metadata": {
        "id": "c6cj0_qjU6SV"
      },
      "source": [
        "## Plotting"
      ]
    },
    {
      "cell_type": "code",
      "metadata": {
        "colab": {
          "base_uri": "https://localhost:8080/",
          "height": 312
        },
        "id": "zZg61cDeU7T0",
        "outputId": "f95984af-fbe3-4772-c75c-a4012137d23e"
      },
      "source": [
        "\n",
        "ax1 = df.plot(kind='scatter',x=\"Matrix\",y=\"Time_naive\",color=\"r\",label=\"Naive\",title=\"Comparing computation times\")\n",
        "ax2 = df.plot(kind='scatter',x=\"Matrix\",y=\"Time_less_naive\",color=\"g\",ax=ax1,label=\"Less naive\")\n",
        "ax1.set_xlabel(\"Matrix size (NxN)\")\n",
        "ax2.set_ylabel(\"Computation time\")\n",
        "\n",
        "print(ax1 == ax2)"
      ],
      "execution_count": 140,
      "outputs": [
        {
          "output_type": "stream",
          "text": [
            "True\n"
          ],
          "name": "stdout"
        },
        {
          "output_type": "display_data",
          "data": {
            "image/png": "[encoded data removed]",
            "text/plain": [
              "<Figure size 432x288 with 1 Axes>"
            ]
          },
          "metadata": {
            "tags": [],
            "needs_background": "light"
          }
        }
      ]
    },
    {
      "cell_type": "markdown",
      "metadata": {
        "id": "rXxzEBgGW6Hj"
      },
      "source": [
        "#In summary\n",
        "\n",
        "- Naive approach increases linearly with the size of the matrix (O(n))\n",
        "- The less naive increases a lot less! (O(sqrt(n))\n",
        "  - For small images, its not a big deal but can easily become problematic (especially if we run N times on different images with large sizes)\n",
        "\n",
        "This function is useful** to find a set of values that can be used for cropping a larger image into smaller segments without having to pad the smaller segments**. "
      ]
    }
  ]
}